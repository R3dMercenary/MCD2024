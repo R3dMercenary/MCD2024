{
 "cells": [
  {
   "cell_type": "markdown",
   "id": "02b879d8-1f0e-4ecd-a819-45cd78f09639",
   "metadata": {},
   "source": [
    "# 0. Problemas"
   ]
  },
  {
   "cell_type": "markdown",
   "id": "62232a4d-a6dd-4132-bad5-35d58cb35e3d",
   "metadata": {},
   "source": [
    "1. Escribe un predicado que verifica si una cadena de caracteres es un dígito.\n",
    "2. Escribe un predicado que verifica si una cadena de caracteres consiste únicamente de dígitos.\n",
    "3. Escribe una función que genere un dígito de forma aleatoria.\n",
    "4. Escribe una función que genera una cadena con $n$ dígitos aleatorios.\n",
    "5. Escribe una función que calcule la distancia de Hamming de dos cadenas de dígitos del mismo tamaño.\n",
    "6. Escribe una función que dada una cadena de dígitos, regresa una cadena igual pero con un dígito cualquiera modificado a otro de forma aleatoria.\n",
    "7. Escribe una función que dada una cadena de dígitos, regresa una cadena igual pero con dos dígitos cualquiera modificados a otros de forma aleatoria.\n",
    "8. Escribe una función que dada una cadena de dígitos, regresa una cadena igual pero con tres dígitos cualquiera modificados a otros de forma aleatoria.\n",
    "9. Escribe una función que dada una cadena de $N$ dígitos, regrese una cadena igual pero con $n$ dígitos cualquiera modificados a otros de forma aleatoria, donde $n \\leq N$."
   ]
  },
  {
   "cell_type": "markdown",
   "id": "f5c06bf0-8872-40a4-84bd-82f3c24ed04f",
   "metadata": {},
   "source": [
    "# 1. Introducción"
   ]
  },
  {
   "cell_type": "markdown",
   "id": "43c782dc-cfa0-4428-bf5f-0c8b4a393ecd",
   "metadata": {},
   "source": [
    "Concebido a finales de la década de 1980 como un lenguaje de enseñanza y scripting, Python se ha convertido desde entonces en una herramienta esencial para muchos programadores, ingenieros, investigadores y científicos de datos en el mundo académico y la industria.\n",
    "\n",
    "El atractivo de Python reside en su simplicidad y belleza, así como en la conveniencia del gran ecosistema de herramientas específicas de dominio que se han construido sobre él.\n",
    "Por ejemplo, la mayor parte del código Python en computación científica y ciencia de datos se basa en un grupo de paquetes maduros y útiles:\n",
    "\n",
    "- [NumPy](http://numpy.org) proporciona almacenamiento y computación eficientes para matrices de datos multidimensionales.\n",
    "- [SciPy](http://scipy.org) contiene una amplia gama de herramientas numéricas, como integración numérica e interpolación.\n",
    "- [Pandas](http://pandas.pydata.org) proporciona un objeto DataFrame junto con un poderoso conjunto de métodos para manipular, filtrar, agrupar y transformar datos.\n",
    "- [Matplotlib](http://matplotlib.org) proporciona una interfaz útil para la creación de gráficos y figuras con calidad de publicación.\n",
    "- [Scikit-Learn](http://scikit-learn.org) proporciona un conjunto de herramientas uniforme para aplicar algoritmos comunes de aprendizaje automático a los datos.\n",
    "- [IPython/Jupyter](http://jupyter.org) proporciona un terminal mejorado y un entorno de cuaderno interactivo que es útil para el análisis exploratorio, así como para la creación de documentos interactivos y ejecutables. Por ejemplo, el manuscrito de este informe se compuso íntegramente en cuadernos Jupyter.\n",
    "\n",
    "No menos importantes son las numerosas otras herramientas y paquetes que acompañan a estos: si hay una tarea científica o de análisis de datos que desea realizar, es probable que alguien haya escrito un paquete que lo haga por usted.\n",
    "\n",
    "Sin embargo, para aprovechar el poder de este ecosistema de ciencia de datos, primero se requiere familiaridad con el lenguaje Python en sí."
   ]
  },
  {
   "cell_type": "markdown",
   "id": "84e5a811-574b-413c-be93-7518f9c4059f",
   "metadata": {},
   "source": [
    "## El Zen de Python\n",
    "\n",
    "Los entusiastas de Python a menudo se apresuran a señalar lo \"intuitivo\", \"hermoso\" o \"divertido\" que es Python. Para aquellos familiarizados con otros lenguajes, tales sentimientos floridos pueden parecer un poco petulantes.\n",
    "\n",
    "Si *realmente* quieres profundizar en la filosofía de programación que impulsa gran parte de la práctica de codificación de los usuarios avanzados de Python, existe un pequeño y agradable huevo de Pascua en el intérprete de Python: simplemente cierra los ojos, medita durante unos minutos e ``import this``: "
   ]
  },
  {
   "cell_type": "code",
   "execution_count": 1,
   "id": "f844324f-bd79-4411-8a78-55f6fa5351ea",
   "metadata": {
    "collapsed": false,
    "jupyter": {
     "outputs_hidden": false
    }
   },
   "outputs": [
    {
     "name": "stdout",
     "output_type": "stream",
     "text": [
      "The Zen of Python, by Tim Peters\n",
      "\n",
      "Beautiful is better than ugly.\n",
      "Explicit is better than implicit.\n",
      "Simple is better than complex.\n",
      "Complex is better than complicated.\n",
      "Flat is better than nested.\n",
      "Sparse is better than dense.\n",
      "Readability counts.\n",
      "Special cases aren't special enough to break the rules.\n",
      "Although practicality beats purity.\n",
      "Errors should never pass silently.\n",
      "Unless explicitly silenced.\n",
      "In the face of ambiguity, refuse the temptation to guess.\n",
      "There should be one-- and preferably only one --obvious way to do it.\n",
      "Although that way may not be obvious at first unless you're Dutch.\n",
      "Now is better than never.\n",
      "Although never is often better than *right* now.\n",
      "If the implementation is hard to explain, it's a bad idea.\n",
      "If the implementation is easy to explain, it may be a good idea.\n",
      "Namespaces are one honking great idea -- let's do more of those!\n"
     ]
    }
   ],
   "source": [
    "import this"
   ]
  },
  {
   "cell_type": "markdown",
   "id": "0bcfa8dd-3478-4303-90d1-1dc61e251b26",
   "metadata": {},
   "source": [
    "# 2. Cómo Ejecutar Código Python\n",
    "\n",
    "Python es un lenguaje flexible, y hay varias formas de usarlo dependiendo de tu tarea particular.\n",
    "Una cosa que distingue a Python de otros lenguajes de programación es que es *interpretado* en lugar de *compilado*.\n",
    "Esto significa que se ejecuta línea por línea, lo que permite que la programación sea interactiva de una manera que no es directamente posible con lenguajes compilados como Fortran, C o Java. Esta sección describirá cuatro formas principales en las que puedes ejecutar código Python: el *intérprete de Python*, el *intérprete de IPython*, a través de *scripts* o en la *libreta Jupyter*.\n",
    "\n",
    "### El Intérprete de Python\n",
    "\n",
    "La forma más básica de ejecutar código Python es línea por línea dentro del *intérprete de Python*.\n",
    "El intérprete de Python se puede iniciar instalando el lenguaje Python (ver la sección anterior) y escribiendo `python` en la terminal:\n",
    "```\n",
    "$ python\n",
    "Python 3.12.4 (main, Jun  7 2024, 06:33:07) [GCC 14.1.1 20240522] on linux\n",
    "Type \"help\", \"copyright\", \"credits\" or \"license\" for more information.\n",
    ">>> \n",
    "```\n",
    "Con el intérprete en ejecución, puedes comenzar a escribir y ejecutar fragmentos de código.\n",
    "Aquí usaremos el intérprete como una simple calculadora, realizando cálculos y asignando valores a variables:\n",
    "```python\n",
    ">>> 1 + 1\n",
    "2\n",
    ">>> x = 5\n",
    ">>> x * 3\n",
    "15\n",
    "```\n",
    "\n",
    "El intérprete hace que sea muy conveniente probar pequeños fragmentos de código Python y experimentar con secuencias cortas de operaciones.\n",
    "\n",
    "### El intérprete IPython\n",
    "\n",
    "Si pasas mucho tiempo con el intérprete básico de Python, encontrarás que carece de muchas de las características de un entorno de desarrollo interactivo completo.\n",
    "Un intérprete alternativo llamado *IPython* (para Python Interactivo) incluye una serie de mejoras convenientes para el intérprete básico de Python.\n",
    "Se puede iniciar escribiendo `ipython` en la terminal:\n",
    "```\n",
    "$ ipython\n",
    "Python 3.12.4 (main, Jun  7 2024, 06:33:07) [GCC 14.1.1 20240522]\n",
    "Type 'copyright', 'credits' or 'license' for more information\n",
    "IPython 8.26.0 -- An enhanced Interactive Python. Type '?' for help.\n",
    "\n",
    "In [1]: \n",
    "```\n",
    "La principal diferencia estética entre el intérprete de Python y el intérprete mejorado de IPython radica en el prompta: Python usa ``>>>`` por defecto, mientras que IPython usa comandos numerados (por ejemplo, ``In [1]:``).\n",
    "Independientemente, podemos ejecutar código línea por línea tal como lo hicimos antes:\n",
    "``` ipython\n",
    "In [1]: 1 + 1\n",
    "Out[1]: 2\n",
    "\n",
    "In [2]: x = 5\n",
    "\n",
    "In [3]: x * 3\n",
    "Out[3]: 15\n",
    "```\n",
    "Ten en cuenta que así como la entrada está numerada, la salida de cada comando también está numerada.\n",
    "\n",
    "### Scripts\n",
    "\n",
    "Ejecutar fragmentos de Python línea por línea es útil en algunos casos, pero para programas más complicados es más conveniente guardar el código en un archivo y ejecutarlo todo a la vez.\n",
    "Por convención, los scripts de Python se guardan en archivos con una extensión *.py*.\n",
    "Por ejemplo, creemos un script llamado *test.py* que contenga lo siguiente:\n",
    "``` python\n",
    "# file: test.py\n",
    "print(\"Running test.py\")\n",
    "x = 5\n",
    "print(\"Result is\", 3 * x)\n",
    "```\n",
    "Para ejecutar este archivo, nos aseguramos de que esté en el directorio actual y escribimos ``python`` *``filename``* en el símbolo del sistema:\n",
    "```\n",
    "$ python test.py\n",
    "Running test.py\n",
    "Result is 15\n",
    "```\n",
    "Para programas más complicados, crear scripts autónomos como este es imprescindible.\n",
    "\n",
    "### La libreta Jupyter\n",
    "\n",
    "Un híbrido útil de la terminal interactiva y el script es la *libreta Jupyter*, un formato de documento que permite combinar código ejecutable, texto formateado, gráficos e incluso funciones interactivas en un solo documento.\n",
    "Aunque la libreta comenzó como un formato solo para Python, desde entonces se ha hecho compatible con una gran cantidad de lenguajes de programación y ahora es una parte esencial del [*Proyecto Jupyter*](https://jupyter.org/).\n",
    "La libreta es útil tanto como entorno de desarrollo como medio para compartir trabajo a través de narrativas computacionales y basadas en datos que mezclan código, figuras, datos y texto."
   ]
  },
  {
   "cell_type": "markdown",
   "id": "80ed4003-b025-458a-a67a-322bd243dbcf",
   "metadata": {},
   "source": [
    "# 3. Un Recorrido Rápido por la Sintaxis del Lenguaje Python\n",
    "\n",
    "Python fue desarrollado originalmente como un lenguaje de enseñanza, pero su facilidad de uso y sintaxis limpia han llevado a que sea adoptado tanto por principiantes como por expertos.\n",
    "La limpieza de la sintaxis de Python ha llevado a algunos a llamarlo \"pseudocódigo ejecutable\".\n",
    "Aquí comenzaremos a discutir las principales características de la sintaxis de Python.\n",
    "\n",
    "La sintaxis se refiere a la estructura del lenguaje (es decir, lo que constituye un programa correctamente formado).\n",
    "Por el momento, no nos centraremos en la semántica (el significado de las palabras y los símbolos dentro de la sintaxis), pero volveremos a esto más adelante.\n",
    "\n",
    "Considere el siguiente ejemplo de código:"
   ]
  },
  {
   "cell_type": "code",
   "execution_count": null,
   "id": "0fd4bfed-a324-4265-ab89-79b680aa48c4",
   "metadata": {
    "collapsed": false,
    "jupyter": {
     "outputs_hidden": false
    }
   },
   "outputs": [],
   "source": [
    "# set the midpoint\n",
    "midpoint = 5\n",
    "\n",
    "# make two empty lists\n",
    "lower = []; upper = []\n",
    "\n",
    "# split the numbers into lower and upper\n",
    "for i in range(10):\n",
    "    if (i < midpoint):\n",
    "        lower.append(i)\n",
    "    else:\n",
    "        upper.append(i)\n",
    "        \n",
    "print(\"lower:\", lower)\n",
    "print(\"upper:\", upper)"
   ]
  },
  {
   "cell_type": "markdown",
   "id": "679777b7-afbd-48c0-bd51-a597f5d129cf",
   "metadata": {},
   "source": [
    "Este script es un poco tonto, pero ilustra de manera compacta varios de los aspectos importantes de la sintaxis de Python.\n",
    "Vamos a repasarlo y discutir algunas de las características sintácticas de Python.\n",
    "\n",
    "## Los comentarios se marcan con ``#``\n",
    "El script comienza con un comentario:\n",
    "``` python\n",
    "# set the midpoint\n",
    "```\n",
    "Los comentarios en Python se indican con un signo de número (``#``), y cualquier cosa en la línea que sigue al signo de número es ignorada por el intérprete.\n",
    "Esto significa, por ejemplo, que puedes tener comentarios independientes como el que se acaba de mostrar, así como comentarios en línea que siguen a una declaración. Por ejemplo:\n",
    "``` python\n",
    "x += 2  # shorthand for x = x + 2\n",
    "```\n",
    "\n",
    "## El final de línea termina una declaración\n",
    "La siguiente línea en el script es\n",
    "``` python\n",
    "midpoint = 5\n",
    "```\n",
    "Esta es una operación de asignación, donde hemos creado una variable llamada ``midpoint`` y le hemos asignado el valor ``5``.\n",
    "Observa que el final de esta declaración está simplemente marcado por el final de la línea.\n",
    "\n",
    "En Python, si deseas que una declaración continúe en la siguiente línea, es posible utilizar el marcador \"``\\``\" para indicar esto: "
   ]
  },
  {
   "cell_type": "code",
   "execution_count": null,
   "id": "d4a7b56a-d8e7-4e09-a683-a2bc40ad3e8d",
   "metadata": {
    "collapsed": false,
    "jupyter": {
     "outputs_hidden": false
    }
   },
   "outputs": [],
   "source": [
    "x = 1 + 2 + 3 + 4 +\\\n",
    "    5 + 6 + 7 + 8"
   ]
  },
  {
   "cell_type": "markdown",
   "id": "18aecdae-387f-49d4-8ee4-7485c0656459",
   "metadata": {},
   "source": [
    "También es posible continuar expresiones en la siguiente línea dentro de paréntesis, sin usar el marcador \"``\\``\": "
   ]
  },
  {
   "cell_type": "code",
   "execution_count": null,
   "id": "7ac87383-1abb-4622-b247-d7a4190f87bc",
   "metadata": {
    "collapsed": false,
    "jupyter": {
     "outputs_hidden": false
    }
   },
   "outputs": [],
   "source": [
    "x = (1 + 2 + 3 + 4 +\n",
    "     5 + 6 + 7 + 8)"
   ]
  },
  {
   "cell_type": "markdown",
   "id": "374e50ce-97e7-4b78-b8d9-f83c85113567",
   "metadata": {},
   "source": [
    "La mayoría de las guías de estilo de Python recomiendan la segunda versión de continuación de línea (dentro de paréntesis) a la primera (uso del marcador \"``\\``\").\n",
    "\n",
    "## El punto y coma puede terminar opcionalmente una declaración\n",
    "\n",
    "A veces puede ser útil poner varias declaraciones en una sola línea.\n",
    "La siguiente parte del script es\n",
    "``` python\n",
    "lower = []; upper = []\n",
    "```\n",
    "Esto muestra el ejemplo de cómo el punto y coma (``;``) se puede usar opcionalmente en Python para poner dos declaraciones en una sola línea.\n",
    "Funcionalmente, esto es completamente equivalente a escribir\n",
    "``` python\n",
    "lower = []\n",
    "upper = []\n",
    "```\n",
    "El uso de un punto y coma para poner varias declaraciones en una sola línea generalmente se desaconseja en la mayoría de las guías de estilo de Python, aunque ocasionalmente resulta conveniente.\n",
    "\n",
    "## Indentación: ¡Los espacios en blanco importan!\n",
    "A continuación, llegamos al bloque principal de código:\n",
    "``` python\n",
    "for i in range(10):\n",
    "    if i < midpoint:\n",
    "        lower.append(i)\n",
    "    else:\n",
    "        upper.append(i)\n",
    "```\n",
    "Esta es una declaración compuesta de control de flujo que incluye un bucle y una condicional; veremos estos tipos de declaraciones en un momento.\n",
    "Por ahora, considere que esto demuestra lo que quizás sea la característica más controvertida de la sintaxis de Python: ¡los espacios en blanco son significativos!\n",
    "\n",
    "En los lenguajes de programación, un *bloque* de código es un conjunto de declaraciones que deben tratarse como una unidad.\n",
    "\n",
    "En Python, los bloques de código se denotan por *indentación*:\n",
    "``` python\n",
    "for i in range(100):\n",
    "    # indentation indicates code block\n",
    "    total += i\n",
    "```\n",
    "En Python, los bloques de código indentados siempre van precedidos de dos puntos (``:``) en la línea anterior.\n",
    "\n",
    "El uso de la indentación ayuda a imponer el estilo uniforme y legible que muchos encuentran atractivo en el código Python.\n",
    "Pero puede ser confuso para los no iniciados; por ejemplo, los dos siguientes fragmentos producirán resultados diferentes:\n",
    "```python\n",
    ">>> if x < 4:         >>> if x < 4:\n",
    "...     y = x * 2     ...     y = x * 2\n",
    "...     print(x)      ... print(x)\n",
    "```\n",
    "En el fragmento de la izquierda, ``print(x)`` está en el bloque indentado y se ejecutará solo si ``x`` es menor que ``4``.\n",
    "En el fragmento de la derecha, ``print(x)`` está fuera del bloque y se ejecutará independientemente del valor de ``x``!\n",
    "\n",
    "El uso de espacios en blanco significativos por parte de Python a menudo sorprende a los programadores que están acostumbrados a otros lenguajes, pero en la práctica puede conducir a un código mucho más consistente y legible que los lenguajes que no imponen la indentación de los bloques de código.\n",
    "\n",
    "Finalmente, debes tener en cuenta que la *cantidad* de espacios en blanco utilizados para indentar bloques de código depende del usuario, siempre que sea consistente en todo el script.\n",
    "Por convención, la mayoría de las guías de estilo recomiendan indentar los bloques de código con cuatro espacios, y esa es la convención que seguiremos.\n",
    "Ten en cuenta que muchos editores de texto como Emacs y Vim contienen modos de Python que hacen la indentación de cuatro espacios automáticamente.\n",
    "\n",
    "## Los espacios en blanco *dentro* de las líneas no importan\n",
    "Mientras que el mantra de *espacios en blanco significativos* se cumple para los espacios en blanco *antes* de las líneas (que indican un bloque de código), los espacios en blanco *dentro* de las líneas de código Python no importan.\n",
    "Por ejemplo, las tres expresiones siguientes son equivalentes: "
   ]
  },
  {
   "cell_type": "code",
   "execution_count": null,
   "id": "863c5512-bea7-4dff-8064-4cd8d67ea404",
   "metadata": {
    "collapsed": false,
    "jupyter": {
     "outputs_hidden": false
    }
   },
   "outputs": [],
   "source": [
    "x=1+2\n",
    "x = 1 + 2\n",
    "x             =        1    +                2"
   ]
  },
  {
   "cell_type": "markdown",
   "id": "bee4d523-2bde-4894-8b13-264d474b5ead",
   "metadata": {},
   "source": [
    "Abusar de esta flexibilidad puede llevar a problemas con la legibilidad del código; de hecho, abusar de los espacios en blanco es a menudo uno de los principales medios para ofuscar intencionalmente el código (lo que algunas personas hacen por deporte).\n",
    "Usar los espacios en blanco de manera efectiva puede conducir a un código mucho más legible, especialmente en casos donde los operadores se siguen entre sí: compara las siguientes dos expresiones para exponenciar por un número negativo:\n",
    "``` python\n",
    "x=10**-2\n",
    "```\n",
    "con\n",
    "``` python\n",
    "x = 10 ** -2\n",
    "```\n",
    "\n",
    "La mayoría de las guías de estilo de Python recomiendan usar un solo espacio alrededor de los operadores binarios y ningún espacio alrededor de los operadores unarios.\n",
    "\n",
    "## Los paréntesis son para agrupar o llamar\n",
    "\n",
    "En el fragmento de código anterior, vemos dos usos de los paréntesis.\n",
    "Primero, se pueden usar de la manera típica para agrupar declaraciones u operaciones matemáticas:"
   ]
  },
  {
   "cell_type": "code",
   "execution_count": null,
   "id": "4fa5b48e-8122-414b-abe4-b20375f0e603",
   "metadata": {
    "collapsed": false,
    "jupyter": {
     "outputs_hidden": false
    }
   },
   "outputs": [],
   "source": [
    "2 * (3 + 4)"
   ]
  },
  {
   "cell_type": "markdown",
   "id": "4162f0d6-f16c-4e11-8a60-72eb05998890",
   "metadata": {},
   "source": [
    "También se pueden usar para indicar que se está llamando a una *función*. En el siguiente fragmento, la función ``print()`` se utiliza para mostrar el contenido de una variable (consulte la barra lateral). La llamada a la función se indica mediante un par de paréntesis de apertura y cierre, con los *argumentos* de la función contenidos dentro: "
   ]
  },
  {
   "cell_type": "code",
   "execution_count": null,
   "id": "d89d3c21-be1d-4089-b158-9160d536802f",
   "metadata": {
    "collapsed": false,
    "jupyter": {
     "outputs_hidden": false
    }
   },
   "outputs": [],
   "source": [
    "print('first value:', 1)"
   ]
  },
  {
   "cell_type": "code",
   "execution_count": null,
   "id": "45d0522b-c676-4669-aa78-d60e67a0716d",
   "metadata": {
    "collapsed": false,
    "jupyter": {
     "outputs_hidden": false
    }
   },
   "outputs": [],
   "source": [
    "print('second value:', 2)"
   ]
  },
  {
   "cell_type": "markdown",
   "id": "ec5e9170-e7e3-495b-8bb1-a3633a790992",
   "metadata": {},
   "source": [
    "Algunas funciones pueden ser llamadas sin ningún argumento, en cuyo caso los paréntesis de apertura y cierre aún deben usarse para indicar una evaluación de función.\n",
    "Un ejemplo de esto es el método ``sort`` de las listas: "
   ]
  },
  {
   "cell_type": "code",
   "execution_count": null,
   "id": "fce9dc70-d0d9-428d-86b3-c91f6c0f78aa",
   "metadata": {
    "collapsed": false,
    "jupyter": {
     "outputs_hidden": false
    }
   },
   "outputs": [],
   "source": [
    "L = [4,2,3,1]\n",
    "L.sort()\n",
    "print(L)"
   ]
  },
  {
   "cell_type": "markdown",
   "id": "eb24f212-b154-4c57-84df-56fa09ea51d9",
   "metadata": {},
   "source": [
    "El \"``()``\" después de ``sort`` indica que la función debe ejecutarse, y es necesario incluso si no se requieren argumentos.\n",
    "\n",
    "## Una nota sobre la función ``print()``\n",
    "\n",
    "Arriba usamos el ejemplo de la función ``print()``.\n",
    "La función ``print()`` es una pieza que ha cambiado entre Python *2.x* y Python *3.x*. En Python 2, ``print`` se comportaba como una declaración: es decir, podías escribir\n",
    "``` python\n",
    "# ¡Solo Python 2!\n",
    ">> print \"first value:\", 1\n",
    "first value: 1\n",
    "```\n",
    "Por varias razones, los mantenedores del lenguaje decidieron que en Python 3 ``print()`` debería convertirse en una función, por lo que ahora escribimos\n",
    "``` python\n",
    "# ¡Solo Python 3!\n",
    ">>> print(\"first value:\", 1)\n",
    "first value: 1\n",
    "```\n",
    "Esta es una de las muchas construcciones incompatibles con versiones anteriores entre Python 2 y 3.\n",
    "\n",
    "## Terminando y aprendiendo más\n",
    "\n",
    "Esta ha sido una exploración muy breve de las características esenciales de la sintaxis de Python; su propósito es brindarte un buen marco de referencia para cuando estés leyendo el código en secciones posteriores.\n",
    "Varias veces hemos mencionado las \"guías de estilo\" de Python, que pueden ayudar a los equipos a escribir código en un estilo consistente.\n",
    "La guía de estilo más utilizada en Python se conoce como PEP8 y se puede encontrar en [https://www.python.org/dev/peps/pep-0008/](https://www.python.org/dev/peps/pep-0008/).\n",
    "¡A medida que comiences a escribir más código Python, sería útil leer esto!\n",
    "Las sugerencias de estilo contienen la sabiduría de muchos gurús de Python, y la mayoría de las sugerencias van más allá de la simple pedantería: son recomendaciones basadas en la experiencia que pueden ayudar a evitar errores sutiles y bugs en tu código."
   ]
  },
  {
   "cell_type": "markdown",
   "id": "e02eff16-cd46-488e-84cf-fcdec377f0cb",
   "metadata": {},
   "source": [
    "# 4. Semántica Básica de Python: Variables y Objetos\n",
    "\n",
    "Esta sección comenzará a cubrir la semántica básica del lenguaje Python.\n",
    "A diferencia de la *sintaxis* cubierta en la sección anterior, la *semántica* de un lenguaje implica el significado de las declaraciones.\n",
    "Al igual que con nuestra discusión sobre la sintaxis, aquí veremos algunas de las construcciones semánticas esenciales en Python para darte un mejor marco de referencia para comprender el código en las siguientes secciones.\n",
    "\n",
    "Esta sección cubrirá la semántica de *variables* y *objetos*, que son las principales formas de almacenar, referenciar y operar con datos dentro de un script de Python.\n",
    "\n",
    "## Las Variables de Python son Punteros\n",
    "\n",
    "Asignar variables en Python es tan fácil como poner un nombre de variable a la izquierda del signo igual (``=``):\n",
    "\n",
    "```python\n",
    "# asigna 4 a la variable x\n",
    "x = 4\n",
    "```\n",
    "\n",
    "Esto puede parecer sencillo, pero si tienes un modelo mental incorrecto de lo que hace esta operación, la forma en que funciona Python puede parecer confusa.\n",
    "Profundizaremos brevemente en eso aquí.\n",
    "\n",
    "En muchos lenguajes de programación, es mejor pensar en las variables como contenedores o cubetas en los que se colocan datos.\n",
    "Entonces, en C, por ejemplo, cuando escribes\n",
    "\n",
    "```C\n",
    "// Código C\n",
    "int x = 4;\n",
    "```\n",
    "\n",
    "esencialmente estás definiendo una \"cubeta de memoria\" llamado ``x`` y poniendo el valor ``4`` en él.\n",
    "En Python, por el contrario, es mejor pensar en las variables no como contenedores sino como punteros.\n",
    "Entonces, en Python, cuando escribes\n",
    "\n",
    "```python\n",
    "x = 4\n",
    "```\n",
    "\n",
    "esencialmente estás definiendo un *puntero* llamado ``x`` que apunta a algúna otra cubeta que contiene el valor ``4``.\n",
    "Ten en cuenta una consecuencia de esto: debido a que las variables de Python solo apuntan a varios objetos, ¡no hay necesidad de \"declarar\" la variable, ni siquiera requerir que la variable siempre apunte a información del mismo tipo!\n",
    "Este es el sentido en el que la gente dice que Python está *tipado dinámicamente*: los nombres de las variables pueden apuntar a objetos de cualquier tipo.\n",
    "Entonces, en Python, puedes hacer cosas como esta: "
   ]
  },
  {
   "cell_type": "code",
   "execution_count": null,
   "id": "d8015f9f-28f0-4200-b918-ceb1b9651eb9",
   "metadata": {
    "collapsed": false,
    "jupyter": {
     "outputs_hidden": false
    }
   },
   "outputs": [],
   "source": [
    "x = 1         # x is an integer\n",
    "x = 'hello'   # now x is a string\n",
    "x = [1, 2, 3] # now x is a list"
   ]
  },
  {
   "cell_type": "markdown",
   "id": "b75faee9-b3d0-449c-abce-62b970054588",
   "metadata": {},
   "source": [
    "Si bien los usuarios de lenguajes de tipado estático pueden extrañar la seguridad de tipos que viene con declaraciones como las que se encuentran en C,\n",
    "\n",
    "```C\n",
    "int x = 4;\n",
    "```\n",
    "\n",
    "este tipado dinámico es una de las piezas que hace que Python sea tan rápido de escribir y fácil de leer.\n",
    "\n",
    "Hay una consecuencia de este enfoque de \"variable como puntero\" que debes tener en cuenta.\n",
    "¡Si tenemos dos nombres de variables apuntando al mismo objeto *mutable*, entonces cambiar uno también cambiará el otro!\n",
    "Por ejemplo, creemos y modifiquemos una lista:"
   ]
  },
  {
   "cell_type": "code",
   "execution_count": null,
   "id": "1179bc3a-680d-4fa9-b9d7-cf942aef3059",
   "metadata": {
    "collapsed": false,
    "jupyter": {
     "outputs_hidden": false
    }
   },
   "outputs": [],
   "source": [
    "x = [1, 2, 3]\n",
    "y = x"
   ]
  },
  {
   "cell_type": "markdown",
   "id": "b092fa8d-872c-4915-a073-30e0af4a2ecb",
   "metadata": {},
   "source": [
    "Hemos creado dos variables ``x`` e ``y`` que apuntan al mismo objeto.\n",
    "Debido a esto, si modificamos la lista a través de uno de sus nombres, veremos que la \"otra\" lista también se modificará:"
   ]
  },
  {
   "cell_type": "code",
   "execution_count": null,
   "id": "44dd9a7b-48f7-458a-888b-d1549de58154",
   "metadata": {
    "collapsed": false,
    "jupyter": {
     "outputs_hidden": false
    }
   },
   "outputs": [],
   "source": [
    "print(y)"
   ]
  },
  {
   "cell_type": "code",
   "execution_count": null,
   "id": "ac0383a6-eed5-4950-8469-a36ecca0ef19",
   "metadata": {
    "collapsed": false,
    "jupyter": {
     "outputs_hidden": false
    }
   },
   "outputs": [],
   "source": [
    "x.append(4) # append 4 to the list pointed to by x\n",
    "print(y) # y's list is modified as well!"
   ]
  },
  {
   "cell_type": "markdown",
   "id": "4efa6efa-f60b-42dc-8731-fb6a93f0bc9c",
   "metadata": {},
   "source": [
    "Este comportamiento puede parecer confuso si estás pensando erróneamente en las variables como cubos que contienen datos.\n",
    "Pero si estás pensando correctamente en las variables como punteros a objetos, entonces este comportamiento tiene sentido.\n",
    "\n",
    "Ten en cuenta también que si usamos \"``=``\" para asignar otro valor a ``x``, esto no afectará el valor de ``y``: la asignación es simplemente un cambio del objeto al que apunta la variable: "
   ]
  },
  {
   "cell_type": "code",
   "execution_count": null,
   "id": "75af441b-d8bc-478b-bb96-3235506d60a0",
   "metadata": {
    "collapsed": false,
    "jupyter": {
     "outputs_hidden": false
    }
   },
   "outputs": [],
   "source": [
    "x = 'something else'\n",
    "print(y)  # y is unchanged"
   ]
  },
  {
   "cell_type": "markdown",
   "id": "3672f746-6f5a-4235-9a6a-4170110e5c9b",
   "metadata": {},
   "source": [
    "Una vez más, esto tiene perfecto sentido si piensas en ``x`` e ``y`` como punteros, y en el operador \"``=``\" como una operación que cambia a qué apunta el nombre.\n",
    "\n",
    "Podrías preguntarte si esta idea de puntero hace que las operaciones aritméticas en Python sean difíciles de rastrear, pero Python está configurado para que esto no sea un problema. Los números, cadenas y otros *tipos simples* son inmutables: no puedes cambiar su valor, solo puedes cambiar a qué valores apuntan las variables.\n",
    "Entonces, por ejemplo, es perfectamente seguro hacer operaciones como la siguiente: "
   ]
  },
  {
   "cell_type": "code",
   "execution_count": null,
   "id": "9a738913-41f3-4874-a95d-3cea0178cc17",
   "metadata": {
    "collapsed": false,
    "jupyter": {
     "outputs_hidden": false
    }
   },
   "outputs": [],
   "source": [
    "x = 10\n",
    "y = x\n",
    "x += 5  # add 5 to x's value, and assign it to x\n",
    "print(\"x =\", x)\n",
    "print(\"y =\", y)"
   ]
  },
  {
   "cell_type": "markdown",
   "id": "9f729e49-1209-4aa6-aa55-2220dbac71db",
   "metadata": {},
   "source": [
    "Cuando llamamos a ``x += 5``, no estamos modificando el valor del objeto ``10`` al que apunta ``x``; más bien estamos cambiando la variable ``x`` para que apunte a un nuevo objeto entero con valor ``15``.\n",
    "Por esta razón, el valor de ``y`` no se ve afectado por la operación.\n",
    "\n",
    "## Todo es un Objeto\n",
    "\n",
    "Python es un lenguaje de programación orientado a objetos, y en Python todo es un objeto.\n",
    "\n",
    "Vamos a desarrollar lo que esto significa. Anteriormente vimos que las variables son simplemente punteros, y los nombres de las variables en sí no tienen información de tipo adjunta.\n",
    "Esto lleva a algunos a afirmar erróneamente que Python es un lenguaje sin tipos. ¡Pero este no es el caso!\n",
    "Considera lo siguiente:"
   ]
  },
  {
   "cell_type": "code",
   "execution_count": null,
   "id": "a92e0aa4-f0d9-4320-9d90-734a4b0f1437",
   "metadata": {
    "collapsed": false,
    "jupyter": {
     "outputs_hidden": false
    }
   },
   "outputs": [],
   "source": [
    "x = 4\n",
    "type(x)"
   ]
  },
  {
   "cell_type": "code",
   "execution_count": null,
   "id": "a2e05421-4ae7-4a72-8bc3-813f5f3eee88",
   "metadata": {
    "collapsed": false,
    "jupyter": {
     "outputs_hidden": false
    }
   },
   "outputs": [],
   "source": [
    "x = 'hello'\n",
    "type(x)"
   ]
  },
  {
   "cell_type": "code",
   "execution_count": null,
   "id": "d1175522-521e-4cd3-a39b-d67f48f4631b",
   "metadata": {
    "collapsed": false,
    "jupyter": {
     "outputs_hidden": false
    }
   },
   "outputs": [],
   "source": [
    "x = 3.14159\n",
    "type(x)"
   ]
  },
  {
   "cell_type": "markdown",
   "id": "680a7d33-6ce6-4b69-91a3-6bffb6ed3e70",
   "metadata": {},
   "source": [
    "Python tiene tipos; sin embargo, los tipos están vinculados no a los nombres de las variables sino *a los objetos mismos*.\n",
    "\n",
    "En lenguajes de programación orientados a objetos como Python, un *objeto* es una entidad que contiene datos junto con metadatos y/o funcionalidades asociadas.\n",
    "En Python, todo es un objeto, lo que significa que cada entidad tiene algunos metadatos (llamados *atributos*) y funcionalidades asociadas (llamadas *métodos*).\n",
    "Se accede a estos atributos y métodos a través de la sintaxis del punto.\n",
    "\n",
    "Por ejemplo, antes vimos que las listas tienen un método ``append``, que agrega un elemento a la lista, y se accede a él a través de la sintaxis del punto (\"``.``\"): "
   ]
  },
  {
   "cell_type": "code",
   "execution_count": null,
   "id": "20fb4060-fdf5-4341-9869-139969def84b",
   "metadata": {
    "collapsed": false,
    "jupyter": {
     "outputs_hidden": false
    }
   },
   "outputs": [],
   "source": [
    "L = [1, 2, 3]\n",
    "L.append(100)\n",
    "print(L)"
   ]
  },
  {
   "cell_type": "markdown",
   "id": "27db2cd4-880e-4f15-b094-9e6cb4498b1a",
   "metadata": {},
   "source": [
    "Si bien se podría esperar que los objetos compuestos como las listas tengan atributos y métodos, lo que a veces es inesperado es que en Python incluso los tipos simples tienen atributos y métodos adjuntos.\n",
    "Por ejemplo, los tipos numéricos tienen un atributo ``real`` y un atributo ``imag`` que devuelve la parte real e imaginaria del valor, si se ve como un número complejo:"
   ]
  },
  {
   "cell_type": "code",
   "execution_count": null,
   "id": "d46664f5-91df-48eb-a87d-0e4f2b2a6547",
   "metadata": {
    "collapsed": false,
    "jupyter": {
     "outputs_hidden": false
    }
   },
   "outputs": [],
   "source": [
    "x = 4.5\n",
    "print(x.real, \"+\", x.imag, 'i')"
   ]
  },
  {
   "cell_type": "markdown",
   "id": "cbb5d30b-5f9c-4342-b856-e7776f8f8a10",
   "metadata": {},
   "source": [
    "Los métodos son como atributos, excepto que son funciones que puedes llamar usando paréntesis de apertura y cierre.\n",
    "Por ejemplo, los números de punto flotante tienen un método llamado ``is_integer`` que comprueba si el valor es un entero:"
   ]
  },
  {
   "cell_type": "code",
   "execution_count": null,
   "id": "bfc8b17a-c52d-4d03-8e70-993bd7ae7fd8",
   "metadata": {
    "collapsed": false,
    "jupyter": {
     "outputs_hidden": false
    }
   },
   "outputs": [],
   "source": [
    "x = 4.5\n",
    "x.is_integer()"
   ]
  },
  {
   "cell_type": "code",
   "execution_count": null,
   "id": "eb001658-bceb-4c6c-a068-21d06a18ec3b",
   "metadata": {
    "collapsed": false,
    "jupyter": {
     "outputs_hidden": false
    }
   },
   "outputs": [],
   "source": [
    "x = 4.0\n",
    "x.is_integer()"
   ]
  },
  {
   "cell_type": "markdown",
   "id": "25abdc48-e43e-4d2d-9880-f95058066acf",
   "metadata": {},
   "source": [
    "Cuando decimos que todo en Python es un objeto, realmente queremos decir que *todo* es un objeto, incluso los atributos y métodos de los objetos son en sí mismos objetos con su propia información de ``type``:"
   ]
  },
  {
   "cell_type": "code",
   "execution_count": null,
   "id": "2566f7df-2c11-473c-8bd4-857896d744e1",
   "metadata": {
    "collapsed": false,
    "jupyter": {
     "outputs_hidden": false
    }
   },
   "outputs": [],
   "source": [
    "type(x.is_integer)"
   ]
  },
  {
   "cell_type": "markdown",
   "id": "f7152ba9-7432-4bf0-9fdd-4bbcbba32497",
   "metadata": {},
   "source": [
    "Descubriremos que la elección de diseño de Python de que todo es un objeto permite algunas construcciones de lenguaje muy convenientes. "
   ]
  },
  {
   "cell_type": "markdown",
   "id": "96a1643f-bd50-4375-94a3-c0fbb41b852e",
   "metadata": {},
   "source": [
    "# 5. Semántica básica de Python: Operadores\n",
    "\n",
    "En la sección anterior, comenzamos a ver la semántica de las variables y los objetos de Python; aquí profundizaremos en la semántica de los diversos *operadores* incluidos en el lenguaje.\n",
    "Al final de esta sección, tendrás las herramientas básicas para comenzar a comparar y operar con datos en Python.\n",
    "\n",
    "## Operaciones aritméticas\n",
    "Python implementa siete operadores aritméticos binarios básicos, dos de los cuales pueden funcionar también como operadores unarios.\n",
    "Se resumen en la siguiente tabla:\n",
    "\n",
    "| Operador     | Nombre           | Descripción                                            |\n",
    "|--------------|----------------|--------------------------------------------------------|\n",
    "| ``a + b``    | Suma            | Suma de ``a`` y ``b``                                 |\n",
    "| ``a - b``    | Resta           | Diferencia de ``a`` y ``b``                          |\n",
    "| ``a * b``    | Multiplicación | Producto de ``a`` y ``b``                             |\n",
    "| ``a / b``    | División real  | Cociente de ``a`` y ``b``                            |\n",
    "| ``a // b``   | División entera| Cociente de ``a`` y ``b``, eliminando las partes fraccionarias |\n",
    "| ``a % b``    | Módulo          | Resto entero después de la división de ``a`` por ``b``     |\n",
    "| ``a ** b``   | Exponenciación | ``a`` elevado a la potencia de ``b``                     |\n",
    "| ``-a``       | Negación        | El negativo de ``a``                                  |\n",
    "| ``+a``       | Más unario      | ``a`` sin cambios (raramente utilizado)                          |\n",
    "\n",
    "Estos operadores se pueden usar y combinar de manera intuitiva, utilizando paréntesis estándar para agrupar operaciones.\n",
    "Por ejemplo:"
   ]
  },
  {
   "cell_type": "code",
   "execution_count": null,
   "id": "2f4c1030-be89-4273-a12c-222415ca0237",
   "metadata": {
    "collapsed": false,
    "jupyter": {
     "outputs_hidden": false
    }
   },
   "outputs": [],
   "source": [
    "# addition, subtraction, multiplication\n",
    "(4 + 8) * (6.5 - 3)"
   ]
  },
  {
   "cell_type": "markdown",
   "id": "3835ca7d-9e33-4fb9-ad4d-3eb54d788643",
   "metadata": {},
   "source": [
    "La división entera es la división real con las partes fraccionarias truncadas: "
   ]
  },
  {
   "cell_type": "code",
   "execution_count": null,
   "id": "edab788a-17e4-4912-a189-0e0aae7e2841",
   "metadata": {
    "collapsed": false,
    "jupyter": {
     "outputs_hidden": false
    }
   },
   "outputs": [],
   "source": [
    "# True division\n",
    "print(11 / 2)"
   ]
  },
  {
   "cell_type": "code",
   "execution_count": null,
   "id": "a8b725db-eb49-4a3d-bcf1-be92e3456bfd",
   "metadata": {
    "collapsed": false,
    "jupyter": {
     "outputs_hidden": false
    }
   },
   "outputs": [],
   "source": [
    "# Floor division\n",
    "print(11 // 2)"
   ]
  },
  {
   "cell_type": "markdown",
   "id": "5c0082bb-2a03-4a82-ada3-6619491109b4",
   "metadata": {},
   "source": [
    "El operador de división entera se agregó en Python 3; debes tener en cuenta que si trabajas en Python 2, el operador de división estándar (``/``) actúa como división entera para números enteros y como división real para números de punto flotante.\n",
    "\n",
    "Finalmente, mencionaré un octavo operador aritmético que se agregó en Python 3.5: el operador ``a @ b``, que está destinado a indicar el *producto matricial* de ``a`` y ``b``, para su uso en varios paquetes de álgebra lineal.\n",
    "\n",
    "## Operaciones a nivel de bits\n",
    "Además de las operaciones numéricas estándar, Python incluye operadores para realizar operaciones lógicas a nivel de bits en enteros.\n",
    "Estos se usan con mucha menos frecuencia que las operaciones aritméticas estándar, pero es útil saber que existen.\n",
    "Los seis operadores a nivel de bits se resumen en la siguiente tabla:\n",
    "\n",
    "| Operador     | Nombre           | Descripción                                   |\n",
    "|--------------|----------------|---------------------------------------------|\n",
    "| ``a & b``    | AND a nivel de bits   | Bits definidos tanto en ``a`` como en ``b``    |\n",
    "| <code>a &#124; b</code> | OR a nivel de bits    | Bits definidos en ``a`` o ``b`` o ambos       |\n",
    "| ``a ^ b``    | XOR a nivel de bits   | Bits definidos en ``a`` o ``b`` pero no ambos  |\n",
    "| ``a << b``   | Desplazamiento de bits a la izquierda | Desplazar bits de ``a`` a la izquierda en ``b`` unidades    |\n",
    "| ``a >> b``   | Desplazamiento de bits a la derecha  | Desplazar bits de ``a`` a la derecha en ``b`` unidades   |\n",
    "| ``~a``       | NOT a nivel de bits   | Negación a nivel de bits de ``a``               |\n",
    "\n",
    "Estos operadores a nivel de bits solo tienen sentido en términos de la representación binaria de los números, que puedes ver usando la función incorporada ``bin``:"
   ]
  },
  {
   "cell_type": "code",
   "execution_count": null,
   "id": "a073ef02-bde7-48aa-8487-67b041d69784",
   "metadata": {
    "collapsed": false,
    "jupyter": {
     "outputs_hidden": false
    }
   },
   "outputs": [],
   "source": [
    "bin(10)"
   ]
  },
  {
   "cell_type": "markdown",
   "id": "f2748c44-cea9-4693-911c-e2fc1d7d9f2a",
   "metadata": {},
   "source": [
    "El resultado está precedido por ``'0b'``, lo que indica una representación binaria. El resto de los dígitos indican que el número 10 se expresa como la suma $1 \\cdot 2^3 + 0 \\cdot 2^2 + 1 \\cdot 2^1 + 0 \\cdot 2^0$.\n",
    "\n",
    "De manera similar, podemos escribir:\n",
    "\n",
    "```python\n",
    "print(bin(4))\n",
    "```\n",
    "\n",
    "Esto nos dará la representación binaria de 4, que es '0b100'. \n",
    "\n",
    "Podemos interpretar esto como que el número 4 se expresa como la suma $1 \\cdot 2^2 + 0 \\cdot 2^1 + 0 \\cdot 2^0$. \n",
    "\n",
    "Esencialmente, la representación binaria de un número nos muestra cómo se puede construir ese número sumando potencias de 2, donde cada dígito binario (0 o 1) indica si esa potencia particular de 2 está incluida o no en la suma. "
   ]
  },
  {
   "cell_type": "code",
   "execution_count": null,
   "id": "d8a86b88-a67b-433a-82e1-d37b225d1372",
   "metadata": {
    "collapsed": false,
    "jupyter": {
     "outputs_hidden": false
    }
   },
   "outputs": [],
   "source": [
    "bin(4)"
   ]
  },
  {
   "cell_type": "markdown",
   "id": "d10c38e0-14c2-4c55-9afc-96f2170a1ef0",
   "metadata": {},
   "source": [
    "Ahora, usando el OR a nivel de bits, podemos encontrar el número que combina los bits de 4 y 10:"
   ]
  },
  {
   "cell_type": "code",
   "execution_count": null,
   "id": "03891c98-3889-46e8-8a99-7a793b29d1fe",
   "metadata": {
    "collapsed": false,
    "jupyter": {
     "outputs_hidden": false
    }
   },
   "outputs": [],
   "source": [
    "4 | 10"
   ]
  },
  {
   "cell_type": "code",
   "execution_count": null,
   "id": "12eedbbd-18c4-4282-971f-80bf62d1ecd7",
   "metadata": {
    "collapsed": false,
    "jupyter": {
     "outputs_hidden": false
    }
   },
   "outputs": [],
   "source": [
    "bin(4 | 10)"
   ]
  },
  {
   "cell_type": "markdown",
   "id": "99731944-9d6e-40db-b7a3-a48cd74a7f50",
   "metadata": {},
   "source": [
    "Estos operadores a nivel de bits no son tan inmediatamente útiles como los operadores aritméticos estándar, pero es útil verlos al menos una vez para comprender qué clase de operación realizan.\n",
    "En particular, los usuarios de otros lenguajes a veces se sienten tentados a usar XOR (es decir, ``a ^ b``) cuando realmente quieren decir exponenciación (es decir, ``a ** b``).\n",
    "\n",
    "## Operaciones de asignación\n",
    "Hemos visto que se pueden asignar variables con el operador \"``=``\" y los valores se almacenan para su uso posterior. Por ejemplo: "
   ]
  },
  {
   "cell_type": "code",
   "execution_count": null,
   "id": "4412ef68-464d-4a16-9d89-c10f1af253f4",
   "metadata": {
    "collapsed": false,
    "jupyter": {
     "outputs_hidden": false
    }
   },
   "outputs": [],
   "source": [
    "a = 24\n",
    "print(a)"
   ]
  },
  {
   "cell_type": "markdown",
   "id": "799f215f-0209-4bea-8113-bbd4128ac5dc",
   "metadata": {},
   "source": [
    "Podemos usar estas variables en expresiones con cualquiera de los operadores mencionados anteriormente. Por ejemplo, para sumar 2 a ``a`` escribimos:"
   ]
  },
  {
   "cell_type": "code",
   "execution_count": null,
   "id": "0eb83e0b-22f6-46e3-8ea2-cc3d07d58415",
   "metadata": {
    "collapsed": false,
    "jupyter": {
     "outputs_hidden": false
    }
   },
   "outputs": [],
   "source": [
    "a + 2"
   ]
  },
  {
   "cell_type": "markdown",
   "id": "9ef729b3-fc69-4bae-93e3-55545182a856",
   "metadata": {},
   "source": [
    "Podríamos querer actualizar la variable ``a`` con este nuevo valor; en este caso, podríamos combinar la suma y la asignación y escribir ``a = a + 2``.\n",
    "Debido a que este tipo de operación combinada y asignación es tan común, Python incluye operadores de actualización incorporados para todas las operaciones aritméticas: "
   ]
  },
  {
   "cell_type": "code",
   "execution_count": null,
   "id": "2bdbc71c-1777-4153-8348-0533c79c275b",
   "metadata": {
    "collapsed": false,
    "jupyter": {
     "outputs_hidden": false
    }
   },
   "outputs": [],
   "source": [
    "a += 2  # equivalent to a = a + 2\n",
    "print(a)"
   ]
  },
  {
   "cell_type": "markdown",
   "id": "a87e2f40-7967-4d01-8157-bd5687bb6aed",
   "metadata": {
    "editable": true,
    "slideshow": {
     "slide_type": ""
    },
    "tags": []
   },
   "source": [
    "Hay un operador de asignación aumentada correspondiente a cada uno de los operadores binarios enumerados anteriormente; en resumen, son:\n",
    "\n",
    "|||||\n",
    "|-|-|-|-|\n",
    "|`a += b`| `a -= b`|`a *= b`| `a /= b`|\n",
    "|`a //= b`| `a %= b`|`a **= b`|`a &= b`|\n",
    "|`a |= b`| `a ^= b`|`a <<= b`| `a >>= b`|\n",
    "\n",
    "Cada uno es equivalente a la operación correspondiente seguida de una asignación: es decir, para cualquier operador \"``<>``\", la expresión ``a <>= b`` es equivalente a ``a = a <> b``, con una pequeña salvedad.\n",
    "Para objetos mutables como listas, arreglos o DataFrames, estas operaciones de asignación aumentada son en realidad sutilmente diferentes de sus contrapartes más detalladas: modifican el contenido del objeto original en lugar de crear un nuevo objeto para almacenar el resultado.\n",
    "\n",
    "## Operaciones de comparación\n",
    "\n",
    "Otro tipo de operación que puede ser muy útil es la comparación de diferentes valores.\n",
    "Para esto, Python implementa operadores de comparación estándar, que devuelven valores booleanos ``True`` y ``False``.\n",
    "Las operaciones de comparación se enumeran en la siguiente tabla:\n",
    "\n",
    "| Operación     | Descripción                       | Operación     | Descripción                         |\n",
    "|---------------|-----------------------------------|---------------|--------------------------------------|\n",
    "| ``a == b``    | ``a`` igual a ``b``               | ``a != b``    | ``a`` no es igual a ``b``           |\n",
    "| ``a < b``     | ``a`` menor que ``b``             | ``a > b``     | ``a`` mayor que ``b``               |\n",
    "| ``a <= b``    | ``a`` menor o igual que ``b``     | ``a >= b``    | ``a`` mayor o igual que ``b``       |\n",
    "\n",
    "Estos operadores de comparación se pueden combinar con los operadores aritméticos y a nivel de bits para expresar un rango prácticamente ilimitado de pruebas para los números.\n",
    "Por ejemplo, podemos verificar si un número es impar comprobando que el módulo con 2 devuelve 1: "
   ]
  },
  {
   "cell_type": "code",
   "execution_count": null,
   "id": "4e277c7a-ded9-496f-b0f1-c417bc2dac47",
   "metadata": {
    "collapsed": false,
    "jupyter": {
     "outputs_hidden": false
    }
   },
   "outputs": [],
   "source": [
    "# 25 is odd\n",
    "25 % 2 == 1"
   ]
  },
  {
   "cell_type": "code",
   "execution_count": null,
   "id": "db3f3dba-a942-49fd-ad31-5ab8144aa0a9",
   "metadata": {
    "collapsed": false,
    "jupyter": {
     "outputs_hidden": false
    }
   },
   "outputs": [],
   "source": [
    "# 66 is odd\n",
    "66 % 2 == 1"
   ]
  },
  {
   "cell_type": "markdown",
   "id": "d20ff74a-0af9-4b3d-8794-ecff8abcdff3",
   "metadata": {},
   "source": [
    "Podemos encadenar múltiples comparaciones para verificar relaciones más complicadas:"
   ]
  },
  {
   "cell_type": "code",
   "execution_count": null,
   "id": "32a8d0c7-7519-4ccb-88db-c6cb90d11a7b",
   "metadata": {
    "collapsed": false,
    "jupyter": {
     "outputs_hidden": false
    }
   },
   "outputs": [],
   "source": [
    "# check if a is between 15 and 30\n",
    "a = 25\n",
    "15 < a < 30"
   ]
  },
  {
   "cell_type": "markdown",
   "id": "74c96bf9-168f-4d58-a884-2da922211b80",
   "metadata": {},
   "source": [
    "Echa un vistazo a esta comparación:"
   ]
  },
  {
   "cell_type": "code",
   "execution_count": null,
   "id": "d0164ffb-d720-4963-b7c8-47848e1f268f",
   "metadata": {
    "collapsed": false,
    "jupyter": {
     "outputs_hidden": false
    }
   },
   "outputs": [],
   "source": [
    "-1 == ~0"
   ]
  },
  {
   "cell_type": "markdown",
   "id": "e13d5596-627b-49cc-8f2e-f9acaac7e176",
   "metadata": {},
   "source": [
    "Recordemos que ``~`` es el operador de inversión de bits, y evidentemente cuando inviertes todos los bits de cero terminas con -1.\n",
    "Si tienes curiosidad sobre por qué sucede esto, busca el esquema de codificación de enteros de *complemento a dos*, que es lo que Python usa para codificar enteros con signo, y piensa en lo que sucede cuando comienzas a invertir todos los bits de los enteros codificados de esta manera.\n",
    "\n",
    "## Operaciones booleanas\n",
    "Cuando se trabaja con valores booleanos, Python proporciona operadores para combinar los valores utilizando los conceptos estándar de \"y\", \"o\" y \"no\".\n",
    "Como era de esperar, estos operadores se expresan utilizando las palabras ``and``, ``or`` y ``not``: "
   ]
  },
  {
   "cell_type": "code",
   "execution_count": null,
   "id": "38cf5b28-4b94-4a57-bb22-f77aaf431f52",
   "metadata": {
    "collapsed": false,
    "jupyter": {
     "outputs_hidden": false
    }
   },
   "outputs": [],
   "source": [
    "x = 4\n",
    "(x < 6) and (x > 2)"
   ]
  },
  {
   "cell_type": "code",
   "execution_count": null,
   "id": "f179626e-9bc8-4586-98a5-575de0af5c90",
   "metadata": {
    "collapsed": false,
    "jupyter": {
     "outputs_hidden": false
    }
   },
   "outputs": [],
   "source": [
    "(x > 10) or (x % 2 == 0)"
   ]
  },
  {
   "cell_type": "code",
   "execution_count": null,
   "id": "cad95f13-59f3-4e7b-876a-42f27f861767",
   "metadata": {
    "collapsed": false,
    "jupyter": {
     "outputs_hidden": false
    }
   },
   "outputs": [],
   "source": [
    "not (x < 6)"
   ]
  },
  {
   "cell_type": "markdown",
   "id": "a5a8624b-1329-428e-b8c7-0105c7b80a86",
   "metadata": {},
   "source": [
    "Los aficionados al álgebra booleana podrían notar que el operador XOR no está incluido; esto, por supuesto, se puede construir de varias maneras a partir de una declaración compuesta de los otros operadores.\n",
    "De lo contrario, un truco inteligente que puedes usar para XOR de valores booleanos es el siguiente:"
   ]
  },
  {
   "cell_type": "code",
   "execution_count": null,
   "id": "e68ccfc6-6bd0-4b19-82b4-e6359e84cf13",
   "metadata": {
    "collapsed": false,
    "jupyter": {
     "outputs_hidden": false
    }
   },
   "outputs": [],
   "source": [
    "# (x > 1) xor (x < 10)\n",
    "(x > 1) != (x < 10)"
   ]
  },
  {
   "cell_type": "markdown",
   "id": "90790565-cc85-4162-bb43-98d60df70670",
   "metadata": {},
   "source": [
    "Este tipo de operaciones booleanas serán extremadamente útiles cuando comencemos a discutir las *declaraciones de control de flujo*, como condicionales y bucles.\n",
    "\n",
    "Algo que a veces puede resultar confuso sobre el lenguaje es cuándo usar operadores booleanos (``and``, ``or``, ``not``) y cuándo usar operaciones a nivel de bits (``&``, ``|``, ``~``).\n",
    "La respuesta está en sus nombres: los operadores booleanos deben usarse cuando deseas calcular *valores booleanos (es decir, verdad o falsedad) de declaraciones completas*.\n",
    "Las operaciones a nivel de bits deben usarse cuando deseas *operar en bits individuales o componentes de los objetos en cuestión*.\n",
    "\n",
    "## 6. Operadores de identidad y pertenencia\n",
    "\n",
    "Al igual que ``and``, ``or`` y ``not``, Python también contiene operadores similares a la prosa para verificar la identidad y la pertenencia.\n",
    "Son los siguientes:\n",
    "\n",
    "| Operador     | Descripción                                                    |\n",
    "|---------------|---------------------------------------------------|\n",
    "| ``a is b``    | Verdadero si ``a`` y ``b`` son objetos idénticos               |\n",
    "| ``a is not b``| Verdadero si ``a`` y ``b`` no son objetos idénticos          |\n",
    "| ``a in b``    | Verdadero si ``a`` es un miembro de ``b``                       |\n",
    "| ``a not in b``| Verdadero si ``a`` no es un miembro de ``b``                    |\n",
    "\n",
    "### Operadores de identidad: “`is`” y \"``is not``\"\n",
    "\n",
    "Los operadores de identidad, \"``is``\" y \"``is not``\" verifican la *identidad del objeto*.\n",
    "La identidad del objeto es diferente a la igualdad, como podemos ver aquí: \n"
   ]
  },
  {
   "cell_type": "code",
   "execution_count": null,
   "id": "94a0b956-221f-428c-9d93-f655d652e710",
   "metadata": {
    "collapsed": false,
    "jupyter": {
     "outputs_hidden": false
    }
   },
   "outputs": [],
   "source": [
    "a = [1, 2, 3]\n",
    "b = [1, 2, 3]"
   ]
  },
  {
   "cell_type": "code",
   "execution_count": null,
   "id": "b02f187a-3ff1-45eb-95f8-bba2ef6cd50e",
   "metadata": {
    "collapsed": false,
    "jupyter": {
     "outputs_hidden": false
    }
   },
   "outputs": [],
   "source": [
    "a == b"
   ]
  },
  {
   "cell_type": "code",
   "execution_count": null,
   "id": "c0183eb2-77ea-4bcf-ad13-35e27fed1a62",
   "metadata": {
    "collapsed": false,
    "jupyter": {
     "outputs_hidden": false
    }
   },
   "outputs": [],
   "source": [
    "a is b"
   ]
  },
  {
   "cell_type": "code",
   "execution_count": null,
   "id": "9dab0b66-497c-48ac-bfbe-7eaebcee06d7",
   "metadata": {
    "collapsed": false,
    "jupyter": {
     "outputs_hidden": false
    }
   },
   "outputs": [],
   "source": [
    "a is not b"
   ]
  },
  {
   "cell_type": "markdown",
   "id": "185641d9-4c88-45b6-a6a8-3bc4035dbcfb",
   "metadata": {
    "editable": true,
    "slideshow": {
     "slide_type": ""
    },
    "tags": []
   },
   "source": [
    "¿Cómo se ven los objetos idénticos? Aquí hay un ejemplo:"
   ]
  },
  {
   "cell_type": "code",
   "execution_count": null,
   "id": "28e5de06-2b7a-4808-8df7-42e0b92cb3f5",
   "metadata": {
    "collapsed": false,
    "editable": true,
    "jupyter": {
     "outputs_hidden": false
    },
    "slideshow": {
     "slide_type": ""
    },
    "tags": []
   },
   "outputs": [],
   "source": [
    "a = [1, 2, 3]\n",
    "b = a\n",
    "a is b"
   ]
  },
  {
   "cell_type": "markdown",
   "id": "c8bf437f-8c38-4085-a281-3f93c6197d88",
   "metadata": {
    "editable": true,
    "slideshow": {
     "slide_type": ""
    },
    "tags": []
   },
   "source": [
    "La diferencia entre los dos casos aquí es que en el primero, ``a`` y ``b`` apuntan a *objetos diferentes*, mientras que en el segundo apuntan al *mismo objeto*.\n",
    "Como vimos en la sección anterior, las variables de Python son punteros. El operador \"``is``\" comprueba si las dos variables apuntan al mismo contenedor (objeto), en lugar de referirse a lo que contiene el contenedor.\n",
    "Teniendo esto en cuenta, en la mayoría de los casos en que un principiante se siente tentado a usar \"``is``\", lo que realmente quiere decir es ``==``.\n",
    "\n",
    "### Operadores de pertenencia\n",
    "Los operadores de pertenencia comprueban la pertenencia dentro de objetos compuestos.\n",
    "Así, por ejemplo, podemos escribir: "
   ]
  },
  {
   "cell_type": "code",
   "execution_count": null,
   "id": "4636d514-8493-420c-a503-912368c05aa9",
   "metadata": {
    "collapsed": false,
    "jupyter": {
     "outputs_hidden": false
    }
   },
   "outputs": [],
   "source": [
    "1 in [1, 2, 3]"
   ]
  },
  {
   "cell_type": "code",
   "execution_count": null,
   "id": "33e89429-92b6-4fa2-bf1c-e897882126f5",
   "metadata": {
    "collapsed": false,
    "jupyter": {
     "outputs_hidden": false
    }
   },
   "outputs": [],
   "source": [
    "2 not in [1, 2, 3]"
   ]
  },
  {
   "cell_type": "markdown",
   "id": "ffc2f203-856a-43fe-a98a-8498d9dbc778",
   "metadata": {},
   "source": [
    "Estas operaciones de pertenencia son un ejemplo de lo que hace que Python sea tan fácil de usar en comparación con lenguajes de nivel inferior como C.\n",
    "En C, la pertenencia generalmente se determinaría construyendo manualmente un bucle sobre la lista y verificando la igualdad de cada valor.\n",
    "En Python, simplemente escribes lo que quieres saber, de una manera que recuerda a la prosa inglesa directa. "
   ]
  },
  {
   "cell_type": "markdown",
   "id": "c6c64649-ea8c-48f1-84b8-21c9ec88c2ae",
   "metadata": {},
   "source": [
    "# 7. Tipos incorporados: Valores simples\n",
    "\n",
    "Al hablar de variables y objetos en Python, mencionamos que todos los objetos de Python tienen información de tipo asociada. Aquí haremos un breve repaso de los tipos simples incorporados que ofrece Python.\n",
    "Decimos \"tipos simples\" para contrastarlos con varios tipos compuestos, que se discutirán en la siguiente sección.\n",
    "\n",
    "Los tipos simples de Python se resumen en la siguiente tabla:\n",
    "\n",
    "<center><b>Tipos Escalares de Python</b></center>\n",
    "\n",
    "| Tipo        | Ejemplo        | Descripción                                                  |\n",
    "|-------------|----------------|--------------------------------------------------------------|\n",
    "| ``int``     | ``x = 1``      | enteros (es decir, números enteros)                               |\n",
    "| ``float``   | ``x = 1.0``    | números de punto flotante (es decir, números reales)                  |\n",
    "| ``complex`` | ``x = 1 + 2j`` | Números complejos (es decir, números con parte real e imaginaria) |\n",
    "| ``bool``    | ``x = True``   | Booleanos: Valores Verdadero/Falso                                   |\n",
    "| ``str``     | ``x = 'abc'``  | Cadena de texto: caracteres o texto                                   |\n",
    "| ``NoneType``| ``x = None``   | Objeto especial que indica valores nulos                              |\n",
    "\n",
    "Echaremos un vistazo rápido a cada uno de ellos.\n",
    "\n",
    "## Enteros\n",
    "\n",
    "El tipo numérico más básico es el entero.\n",
    "Cualquier número sin punto decimal es un entero: "
   ]
  },
  {
   "cell_type": "code",
   "execution_count": null,
   "id": "b3c94245-df4f-4d51-8f55-c20b0c665b27",
   "metadata": {
    "collapsed": false,
    "jupyter": {
     "outputs_hidden": false
    }
   },
   "outputs": [],
   "source": [
    "x = 1\n",
    "type(x)"
   ]
  },
  {
   "cell_type": "markdown",
   "id": "d70a0653-4a1d-410b-adae-dc3d3b47ef04",
   "metadata": {},
   "source": [
    "Los enteros de Python son en realidad bastante más sofisticados que los enteros en lenguajes como ``C``.\n",
    "Los enteros en C tienen una precisión fija y, por lo general, se desbordan en algún valor (a menudo cerca de $2^{31}$ o $2^{63}$, dependiendo de tu sistema).\n",
    "Los enteros de Python tienen precisión variable, por lo que puedes realizar cálculos que se desbordarían en otros lenguajes: "
   ]
  },
  {
   "cell_type": "code",
   "execution_count": null,
   "id": "5f45e13c-1c2e-4059-9f6d-b1867443593d",
   "metadata": {
    "collapsed": false,
    "jupyter": {
     "outputs_hidden": false
    }
   },
   "outputs": [],
   "source": [
    "2 ** 200"
   ]
  },
  {
   "cell_type": "markdown",
   "id": "65bbd300-da31-4ca9-9ccd-fa2a9efd24c6",
   "metadata": {},
   "source": [
    "Otra característica conveniente de los enteros de Python es que, por defecto, la división se convierte automáticamente a tipo de punto flotante: "
   ]
  },
  {
   "cell_type": "code",
   "execution_count": null,
   "id": "952c48cb-ffce-4cec-bb6d-d6d714e42ff4",
   "metadata": {
    "collapsed": false,
    "jupyter": {
     "outputs_hidden": false
    }
   },
   "outputs": [],
   "source": [
    "5 / 2"
   ]
  },
  {
   "cell_type": "markdown",
   "id": "a501534d-3837-4442-af9f-712ace60605f",
   "metadata": {},
   "source": [
    "Ten en cuenta que esta conversión automática a flotante es una característica de Python 3; en Python 2, como en muchos lenguajes de tipado estático como C, la división de enteros trunca cualquier decimal y siempre devuelve un entero:\n",
    "\n",
    "```python\n",
    "# Comportamiento de Python 2\n",
    ">>> 5 / 2\n",
    "2\n",
    "```\n",
    "\n",
    "Para recuperar este comportamiento en Python 3, puedes usar el operador de división entera (floor division): "
   ]
  },
  {
   "cell_type": "code",
   "execution_count": null,
   "id": "87e40025-a017-4d47-ac88-d5cf7bece13f",
   "metadata": {
    "collapsed": false,
    "jupyter": {
     "outputs_hidden": false
    }
   },
   "outputs": [],
   "source": [
    "5 // 2"
   ]
  },
  {
   "cell_type": "markdown",
   "id": "12141638-2e7b-4dfd-bd00-bb8d40b0c7bf",
   "metadata": {},
   "source": [
    "Finalmente, ten en cuenta que aunque Python *2.x* tenía tanto un tipo ``int`` como un tipo ``long``, Python 3 combina el comportamiento de estos dos en un único tipo ``int``.\n",
    "\n",
    "## Números de punto flotante\n",
    "\n",
    "El tipo de punto flotante puede almacenar números fraccionarios.\n",
    "Se pueden definir ya sea en notación decimal estándar o en notación exponencial: "
   ]
  },
  {
   "cell_type": "code",
   "execution_count": null,
   "id": "75d4db8c-992b-44f5-a2d7-6138c9f522d9",
   "metadata": {
    "collapsed": false,
    "jupyter": {
     "outputs_hidden": false
    }
   },
   "outputs": [],
   "source": [
    "x = 0.000005\n",
    "y = 5e-6\n",
    "print(x == y)"
   ]
  },
  {
   "cell_type": "code",
   "execution_count": null,
   "id": "fe78b080-ae6b-4e5c-a7e9-07755cc7aa95",
   "metadata": {
    "collapsed": false,
    "jupyter": {
     "outputs_hidden": false
    }
   },
   "outputs": [],
   "source": [
    "x = 1400000.00\n",
    "y = 1.4e6\n",
    "print(x == y)"
   ]
  },
  {
   "cell_type": "markdown",
   "id": "89271243-d266-4400-b37e-40dd1bc247b8",
   "metadata": {},
   "source": [
    "En la notación exponencial, la ``e`` o ``E`` se puede leer como \"...multiplicado por diez elevado a la...\", por lo que ``1.4e6`` se interpreta como $~1.4 \\times 10^6$.\n",
    "\n",
    "Un entero se puede convertir explícitamente a un flotante con el constructor ``float``: "
   ]
  },
  {
   "cell_type": "code",
   "execution_count": null,
   "id": "1868202d-e1ea-47e7-9306-df3cfc6a6568",
   "metadata": {
    "collapsed": false,
    "jupyter": {
     "outputs_hidden": false
    }
   },
   "outputs": [],
   "source": [
    "float(1)"
   ]
  },
  {
   "cell_type": "markdown",
   "id": "1226c679-deb1-4768-9f73-3fd959b4e1ba",
   "metadata": {},
   "source": [
    "### Precisión de punto flotante\n",
    "\n",
    "Una cosa a tener en cuenta con la aritmética de punto flotante es que su precisión es limitada, lo que puede causar que las pruebas de igualdad sean inestables. Por ejemplo: "
   ]
  },
  {
   "cell_type": "code",
   "execution_count": null,
   "id": "66806ddb-4724-4c9a-9c8a-54dc9393ee85",
   "metadata": {
    "collapsed": false,
    "jupyter": {
     "outputs_hidden": false
    }
   },
   "outputs": [],
   "source": [
    "0.1 + 0.2 == 0.3"
   ]
  },
  {
   "cell_type": "markdown",
   "id": "5442682f-6960-40ce-8b5b-6cb3c149e353",
   "metadata": {},
   "source": [
    "¿Por qué sucede esto? Resulta que no es un comportamiento exclusivo de Python, sino que se debe al formato de precisión fija del almacenamiento binario de punto flotante utilizado por la mayoría, si no todas, las plataformas de computación científica.\n",
    "Todos los lenguajes de programación que usan números de punto flotante los almacenan en un número fijo de bits, y esto lleva a que algunos números se representen solo de manera aproximada.\n",
    "Podemos ver esto imprimiendo los tres valores con alta precisión: "
   ]
  },
  {
   "cell_type": "code",
   "execution_count": null,
   "id": "50895fc9-43e6-4a93-9229-c5b6985d75e0",
   "metadata": {
    "collapsed": false,
    "jupyter": {
     "outputs_hidden": false
    }
   },
   "outputs": [],
   "source": [
    "print(\"0.1 = {0:.17f}\".format(0.1))\n",
    "print(\"0.2 = {0:.17f}\".format(0.2))\n",
    "print(\"0.3 = {0:.17f}\".format(0.3))"
   ]
  },
  {
   "cell_type": "markdown",
   "id": "48664c42-8d4c-4f9c-9996-7a88ef6411f1",
   "metadata": {},
   "source": [
    "Estamos acostumbrados a pensar en números en notación decimal (base 10), por lo que cada fracción debe expresarse como una suma de potencias de 10:\n",
    "\n",
    "$$\n",
    "1 /8 = 1\\cdot 10^{-1} + 2\\cdot 10^{-2} + 5\\cdot 10^{-3}\n",
    "$$\n",
    "\n",
    "En la conocida representación en base 10, expresamos esto en la familiar expresión decimal: $0.125$.\n",
    "\n",
    "Las computadoras generalmente almacenan valores en notación binaria, de modo que cada número se expresa como una suma de potencias de 2:\n",
    "\n",
    "$$\n",
    "1/8 = 0\\cdot 2^{-1} + 0\\cdot 2^{-2} + 1\\cdot 2^{-3}\n",
    "$$\n",
    "\n",
    "En una representación en base 2, podemos escribir esto como $0.001_2$, donde el subíndice 2 indica notación binaria.\n",
    "El valor $0.125 = 0.001_2$ resulta ser un número que tanto la notación binaria como la decimal pueden representar en un número finito de dígitos.\n",
    "\n",
    "En la conocida representación en base 10 de los números, probablemente estés familiarizado con números que no se pueden expresar en un número finito de dígitos.\n",
    "Por ejemplo, dividir $1$ entre $3$ da, en notación decimal estándar:\n",
    "\n",
    "$$\n",
    "1 / 3 = 0.333333333\\cdots\n",
    "$$\n",
    "\n",
    "Los 3 continúan para siempre: es decir, ¡para representar verdaderamente este cociente, el número de dígitos requeridos es infinito!\n",
    "\n",
    "De manera similar, hay números para los cuales las representaciones binarias requieren un número infinito de dígitos.\n",
    "Por ejemplo:\n",
    "\n",
    "$$\n",
    "1 / 10 = 0.00011001100110011\\cdots_2\n",
    "$$\n",
    "\n",
    "Así como la notación decimal requiere un número infinito de dígitos para representar perfectamente $1/3$, la notación binaria requiere un número infinito de dígitos para representar $1/10$.\n",
    "Python internamente trunca estas representaciones a 52 bits más allá del primer bit distinto de cero en la mayoría de los sistemas.\n",
    "\n",
    "Este error de redondeo para los valores de punto flotante es un mal necesario al trabajar con números de punto flotante.\n",
    "La mejor manera de lidiar con él es tener siempre en cuenta que la aritmética de punto flotante es aproximada, y *nunca* confiar en pruebas de igualdad exactas con valores de punto flotante.\n",
    "\n",
    "## Números complejos\n",
    "\n",
    "Los números complejos son números con partes reales e imaginarias (de punto flotante).\n",
    "Hemos visto enteros y números reales antes; podemos usarlos para construir un número complejo: \n"
   ]
  },
  {
   "cell_type": "code",
   "execution_count": null,
   "id": "c843048a-0e6e-4bf1-8c39-a4ee09ff3ec5",
   "metadata": {
    "collapsed": false,
    "jupyter": {
     "outputs_hidden": false
    }
   },
   "outputs": [],
   "source": [
    "complex(1, 2)"
   ]
  },
  {
   "cell_type": "markdown",
   "id": "a4079e88-30ca-4bb2-b35e-8774ca71f595",
   "metadata": {},
   "source": [
    "Alternativamente, podemos usar el sufijo \"``j``\" en expresiones para indicar la parte imaginaria: "
   ]
  },
  {
   "cell_type": "code",
   "execution_count": null,
   "id": "709d18b5-4cb7-49ba-b3de-4e29d12dad42",
   "metadata": {
    "collapsed": false,
    "jupyter": {
     "outputs_hidden": false
    }
   },
   "outputs": [],
   "source": [
    "1 + 2j"
   ]
  },
  {
   "cell_type": "markdown",
   "id": "781797bb-77e0-4c41-bc46-459f053afc5a",
   "metadata": {},
   "source": [
    "Los números complejos tienen una variedad de atributos y métodos interesantes, que demostraremos brevemente aquí: "
   ]
  },
  {
   "cell_type": "code",
   "execution_count": null,
   "id": "8669b90b-3317-4dfb-ab14-45b0b98e481a",
   "metadata": {
    "collapsed": false,
    "jupyter": {
     "outputs_hidden": false
    }
   },
   "outputs": [],
   "source": [
    "c = 3 + 4j"
   ]
  },
  {
   "cell_type": "code",
   "execution_count": null,
   "id": "c5ea0f8a-c8c4-4b21-86a4-3debf19838c1",
   "metadata": {
    "collapsed": false,
    "jupyter": {
     "outputs_hidden": false
    }
   },
   "outputs": [],
   "source": [
    "c.real  # real part"
   ]
  },
  {
   "cell_type": "code",
   "execution_count": null,
   "id": "b11d05bb-eab0-4e62-99ae-37e2d5c74549",
   "metadata": {
    "collapsed": false,
    "jupyter": {
     "outputs_hidden": false
    }
   },
   "outputs": [],
   "source": [
    "c.imag  # imaginary part"
   ]
  },
  {
   "cell_type": "code",
   "execution_count": null,
   "id": "e17b8525-26a9-4f10-820c-548170d1fb65",
   "metadata": {
    "collapsed": false,
    "jupyter": {
     "outputs_hidden": false
    }
   },
   "outputs": [],
   "source": [
    "c.conjugate()  # complex conjugate"
   ]
  },
  {
   "cell_type": "code",
   "execution_count": null,
   "id": "ef5c228a-e22e-462f-b0a6-2536ba06a89c",
   "metadata": {
    "collapsed": false,
    "jupyter": {
     "outputs_hidden": false
    }
   },
   "outputs": [],
   "source": [
    "abs(c)  # magnitude, i.e. sqrt(c.real ** 2 + c.imag ** 2)"
   ]
  },
  {
   "cell_type": "markdown",
   "id": "5dbd2f90-125c-4915-a216-578ac9ead363",
   "metadata": {},
   "source": [
    "## Tipo Cadena de Texto\n",
    "\n",
    "Las cadenas de texto en Python se crean con comillas simples o dobles: \n"
   ]
  },
  {
   "cell_type": "code",
   "execution_count": null,
   "id": "e23899f8-3203-4a18-ab2c-d72e84f1996f",
   "metadata": {
    "collapsed": false,
    "jupyter": {
     "outputs_hidden": false
    }
   },
   "outputs": [],
   "source": [
    "message = \"what do you like?\"\n",
    "response = 'spam'"
   ]
  },
  {
   "cell_type": "markdown",
   "id": "5aafb030-a477-4cb8-8f3f-f16844cf09f6",
   "metadata": {},
   "source": [
    "Python tiene muchas funciones y métodos de cadena extremadamente útiles; aquí hay algunos de ellos: \n"
   ]
  },
  {
   "cell_type": "code",
   "execution_count": null,
   "id": "ab9b6f66-fa95-41ef-b1fa-63f7beba91ad",
   "metadata": {
    "collapsed": false,
    "jupyter": {
     "outputs_hidden": false
    }
   },
   "outputs": [],
   "source": [
    "# length of string\n",
    "len(response)"
   ]
  },
  {
   "cell_type": "code",
   "execution_count": null,
   "id": "bb0ab97f-cfed-4e72-8445-7f2d59ba067d",
   "metadata": {
    "collapsed": false,
    "jupyter": {
     "outputs_hidden": false
    }
   },
   "outputs": [],
   "source": [
    "# Make upper-case. See also str.lower()\n",
    "response.upper()"
   ]
  },
  {
   "cell_type": "code",
   "execution_count": null,
   "id": "97da9634-629e-44c6-881e-b81c28a500ce",
   "metadata": {
    "collapsed": false,
    "jupyter": {
     "outputs_hidden": false
    }
   },
   "outputs": [],
   "source": [
    "# Capitalize. See also str.title()\n",
    "message.capitalize()"
   ]
  },
  {
   "cell_type": "code",
   "execution_count": null,
   "id": "eddde098-ef80-413f-86ae-c32c945e69d2",
   "metadata": {
    "collapsed": false,
    "jupyter": {
     "outputs_hidden": false
    }
   },
   "outputs": [],
   "source": [
    "# concatenation with +\n",
    "message + response"
   ]
  },
  {
   "cell_type": "code",
   "execution_count": null,
   "id": "f5fee563-cf32-42eb-b19c-31b9af769563",
   "metadata": {
    "collapsed": false,
    "jupyter": {
     "outputs_hidden": false
    }
   },
   "outputs": [],
   "source": [
    "# multiplication is multiple concatenation\n",
    "5 * response"
   ]
  },
  {
   "cell_type": "code",
   "execution_count": null,
   "id": "6023c189-e2e8-4ada-9c2d-fea91211ff94",
   "metadata": {
    "collapsed": false,
    "jupyter": {
     "outputs_hidden": false
    }
   },
   "outputs": [],
   "source": [
    "# Access individual characters (zero-based indexing)\n",
    "message[0]"
   ]
  },
  {
   "cell_type": "markdown",
   "id": "171b6c97-cb6e-4364-8b29-3d8eec8b95b0",
   "metadata": {},
   "source": [
    "## Tipo None\n",
    "\n",
    "Python incluye un tipo especial, el ``NoneType``, que tiene un solo valor posible: ``None``. Por ejemplo: \n"
   ]
  },
  {
   "cell_type": "code",
   "execution_count": null,
   "id": "b40378dc-8497-49ad-9df4-a8d211176280",
   "metadata": {
    "collapsed": false,
    "jupyter": {
     "outputs_hidden": false
    }
   },
   "outputs": [],
   "source": [
    "type(None)"
   ]
  },
  {
   "cell_type": "markdown",
   "id": "599dbeb4-3a0b-4568-aeab-3b1fc52a34bc",
   "metadata": {},
   "source": [
    "Verás ``None`` usado en muchos lugares, pero quizás lo más común es que se use como el valor de retorno predeterminado de una función.\n",
    "Por ejemplo, la función ``print()`` en Python 3 no devuelve nada, pero aún podemos capturar su valor: \n"
   ]
  },
  {
   "cell_type": "code",
   "execution_count": null,
   "id": "faf1c928-668d-4ba9-a74a-8aa578ebb96b",
   "metadata": {
    "collapsed": false,
    "jupyter": {
     "outputs_hidden": false
    }
   },
   "outputs": [],
   "source": [
    "return_value = print('abc')"
   ]
  },
  {
   "cell_type": "code",
   "execution_count": null,
   "id": "9eadd2e1-7396-4e1d-9dd0-93868c174992",
   "metadata": {
    "collapsed": false,
    "jupyter": {
     "outputs_hidden": false
    }
   },
   "outputs": [],
   "source": [
    "print(return_value)"
   ]
  },
  {
   "cell_type": "markdown",
   "id": "a3d7a77c-d462-44a9-86cd-db193c5b8a17",
   "metadata": {},
   "source": [
    "Del mismo modo, cualquier función en Python sin un valor de retorno está, en realidad, devolviendo ``None``.\n",
    "\n",
    "## Tipo Booleano\n",
    "\n",
    "El tipo Booleano es un tipo simple con dos valores posibles: ``True`` y ``False``, y es devuelto por los operadores de comparación discutidos previamente: \n"
   ]
  },
  {
   "cell_type": "code",
   "execution_count": null,
   "id": "b38d47f9-ab43-44e5-8681-494aa5c86d7b",
   "metadata": {
    "collapsed": false,
    "jupyter": {
     "outputs_hidden": false
    }
   },
   "outputs": [],
   "source": [
    "result = (4 < 5)\n",
    "result"
   ]
  },
  {
   "cell_type": "code",
   "execution_count": null,
   "id": "df7c6280-d28e-476f-b8a8-389caea443cd",
   "metadata": {
    "collapsed": false,
    "jupyter": {
     "outputs_hidden": false
    }
   },
   "outputs": [],
   "source": [
    "type(result)"
   ]
  },
  {
   "cell_type": "markdown",
   "id": "cfe0edf7-aa48-4f1f-ba5a-53389da18362",
   "metadata": {},
   "source": [
    "Ten en cuenta que los valores booleanos distinguen entre mayúsculas y minúsculas: a diferencia de otros lenguajes, ¡``True`` y ``False`` deben escribirse con la primera letra en mayúscula! \n"
   ]
  },
  {
   "cell_type": "code",
   "execution_count": null,
   "id": "c542dcf7-5927-40f7-9f36-b517f3421896",
   "metadata": {
    "collapsed": false,
    "jupyter": {
     "outputs_hidden": false
    }
   },
   "outputs": [],
   "source": [
    "print(True, False)"
   ]
  },
  {
   "cell_type": "markdown",
   "id": "99808a90-9b0d-48d0-ac0e-98a5a42ac110",
   "metadata": {},
   "source": [
    "Los booleanos también se pueden construir usando el constructor de objetos ``bool()``: los valores de cualquier otro tipo se pueden convertir a booleanos mediante reglas predecibles.\n",
    "Por ejemplo, cualquier tipo numérico es False si es igual a cero, y True en caso contrario: \n"
   ]
  },
  {
   "cell_type": "code",
   "execution_count": null,
   "id": "238478a7-67ae-406f-9d10-3e088dbad94a",
   "metadata": {
    "collapsed": false,
    "jupyter": {
     "outputs_hidden": false
    }
   },
   "outputs": [],
   "source": [
    "bool(2014)"
   ]
  },
  {
   "cell_type": "code",
   "execution_count": null,
   "id": "99b31eaf-8edb-4bde-933e-a59282f978b7",
   "metadata": {
    "collapsed": false,
    "jupyter": {
     "outputs_hidden": false
    }
   },
   "outputs": [],
   "source": [
    "bool(0)"
   ]
  },
  {
   "cell_type": "code",
   "execution_count": null,
   "id": "a1762287-102b-479a-aa2b-9e5ac587c97b",
   "metadata": {
    "collapsed": false,
    "jupyter": {
     "outputs_hidden": false
    }
   },
   "outputs": [],
   "source": [
    "bool(3.1415)"
   ]
  },
  {
   "cell_type": "markdown",
   "id": "39e29f87-1b32-4023-9675-c9577d2fbb3c",
   "metadata": {},
   "source": [
    "La conversión booleana de ``None`` siempre es False: \n"
   ]
  },
  {
   "cell_type": "code",
   "execution_count": null,
   "id": "3c854085-17d4-459e-ab69-d048a4aa57e4",
   "metadata": {
    "collapsed": false,
    "jupyter": {
     "outputs_hidden": false
    }
   },
   "outputs": [],
   "source": [
    "bool(None)"
   ]
  },
  {
   "cell_type": "markdown",
   "id": "af765635-b677-4af2-9f95-e49992fad875",
   "metadata": {},
   "source": [
    "Para las cadenas de texto, ``bool(s)`` es False para cadenas vacías y True en caso contrario:"
   ]
  },
  {
   "cell_type": "code",
   "execution_count": null,
   "id": "860c1fca-1bd5-4a07-8bdc-63bdb22146de",
   "metadata": {
    "collapsed": false,
    "jupyter": {
     "outputs_hidden": false
    }
   },
   "outputs": [],
   "source": [
    "bool(\"\")"
   ]
  },
  {
   "cell_type": "code",
   "execution_count": null,
   "id": "1d516393-518a-4c1b-8dec-0006fd692da6",
   "metadata": {
    "collapsed": false,
    "jupyter": {
     "outputs_hidden": false
    }
   },
   "outputs": [],
   "source": [
    "bool(\"abc\")"
   ]
  },
  {
   "cell_type": "markdown",
   "id": "3674f6e2-48b3-41bd-aa14-18790b19c1d3",
   "metadata": {},
   "source": [
    "Para las secuencias, que veremos en la siguiente sección, la representación booleana es False para secuencias vacías y True para cualquier otra secuencia."
   ]
  },
  {
   "cell_type": "code",
   "execution_count": null,
   "id": "0241ceaf-e057-4be2-94a7-b41183c9e576",
   "metadata": {
    "collapsed": false,
    "jupyter": {
     "outputs_hidden": false
    }
   },
   "outputs": [],
   "source": [
    "bool([1, 2, 3])"
   ]
  },
  {
   "cell_type": "code",
   "execution_count": null,
   "id": "c6b48980-bc59-4ecb-8866-79927b2d3e72",
   "metadata": {
    "collapsed": false,
    "jupyter": {
     "outputs_hidden": false
    }
   },
   "outputs": [],
   "source": [
    "bool([])"
   ]
  },
  {
   "cell_type": "markdown",
   "id": "c591f6dc-7eaa-4bc8-86dc-3d6936e2e92e",
   "metadata": {},
   "source": [
    "# 8. Estructuras de datos incorporadas\n",
    "\n",
    "Hemos visto los tipos simples de Python: ``int``, ``float``, ``complex``, ``bool``, ``str``, etc.\n",
    "Python también tiene varios tipos compuestos incorporados, que actúan como contenedores para otros tipos.\n",
    "Estos tipos compuestos son:\n",
    "\n",
    "| Nombre del tipo | Ejemplo                   | Descripción                                |\n",
    "|-----------|---------------------------|---------------------------------------|\n",
    "| ``list``  | ``[1, 2, 3]``             | Colección ordenada                      |\n",
    "| ``tuple`` | ``(1, 2, 3)``             | Colección ordenada inmutable             |\n",
    "| ``dict``  | ``{'a':1, 'b':2, 'c':3}`` | Mapeo (clave, valor) no ordenado        |\n",
    "| ``set``   | ``{1, 2, 3}``             | Colección no ordenada de valores únicos |\n",
    "\n",
    "Como puedes ver, los paréntesis redondos, cuadrados y llaves tienen significados distintos cuando se trata del tipo de colección que se produce.\n",
    "Haremos un recorrido rápido por estas estructuras de datos aquí.\n",
    "\n",
    "## Listas\n",
    "\n",
    "Las listas son el tipo de colección de datos *ordenada* y *mutable* básica en Python.\n",
    "Se pueden definir con valores separados por comas entre corchetes; por ejemplo, aquí hay una lista de los primeros números primos: "
   ]
  },
  {
   "cell_type": "code",
   "execution_count": null,
   "id": "80024adb-79e5-4dda-a9ab-2b3c773aecaf",
   "metadata": {
    "collapsed": false,
    "jupyter": {
     "outputs_hidden": false
    }
   },
   "outputs": [],
   "source": [
    "L = [2, 3, 5, 7]"
   ]
  },
  {
   "cell_type": "markdown",
   "id": "30aef1c9-2b6b-44e6-a2f5-f73e3fef7fc2",
   "metadata": {},
   "source": [
    "Las listas tienen una serie de propiedades y métodos útiles disponibles.\n",
    "Aquí echaremos un vistazo rápido a algunos de los más comunes y útiles: \n"
   ]
  },
  {
   "cell_type": "code",
   "execution_count": null,
   "id": "3f3d2bbb-202c-4966-bd23-97628ee77ba2",
   "metadata": {
    "collapsed": false,
    "jupyter": {
     "outputs_hidden": false
    }
   },
   "outputs": [],
   "source": [
    "# Length of a list\n",
    "len(L)"
   ]
  },
  {
   "cell_type": "code",
   "execution_count": null,
   "id": "7aa8676a-808d-48d0-8524-cfb4cd371bac",
   "metadata": {
    "collapsed": false,
    "jupyter": {
     "outputs_hidden": false
    }
   },
   "outputs": [],
   "source": [
    "# Append a value to the end\n",
    "L.append(11)\n",
    "L"
   ]
  },
  {
   "cell_type": "code",
   "execution_count": null,
   "id": "31031d46-a7ce-442e-9b11-918d9ebba4af",
   "metadata": {
    "collapsed": false,
    "jupyter": {
     "outputs_hidden": false
    }
   },
   "outputs": [],
   "source": [
    "# Addition concatenates lists\n",
    "L + [13, 17, 19]"
   ]
  },
  {
   "cell_type": "code",
   "execution_count": null,
   "id": "346040a7-31cb-4846-b362-ccdc933dc6a4",
   "metadata": {
    "collapsed": false,
    "jupyter": {
     "outputs_hidden": false
    }
   },
   "outputs": [],
   "source": [
    "# sort() method sorts in-place\n",
    "L = [2, 5, 1, 6, 3, 4]\n",
    "L.sort()\n",
    "L"
   ]
  },
  {
   "cell_type": "markdown",
   "id": "744d0d8e-a0fa-4677-89f9-1047c9286c3a",
   "metadata": {},
   "source": [
    "Además, hay muchos más métodos de lista incorporados; están bien cubiertos en la [documentación en línea de Python](https://docs.python.org/3/tutorial/datastructures.html).\n",
    "\n",
    "Aunque hemos estado mostrando listas que contienen valores de un solo tipo, una de las características poderosas de los objetos compuestos de Python es que pueden contener objetos de *cualquier* tipo, o incluso una mezcla de tipos. Por ejemplo: \n"
   ]
  },
  {
   "cell_type": "code",
   "execution_count": null,
   "id": "f11ff90e-27e6-4249-8fff-ca10d9659ac3",
   "metadata": {
    "collapsed": false,
    "jupyter": {
     "outputs_hidden": false
    }
   },
   "outputs": [],
   "source": [
    "L = [1, 'two', 3.14, [0, 3, 5]]"
   ]
  },
  {
   "cell_type": "markdown",
   "id": "9e133433-662e-4674-acdb-349e0802e171",
   "metadata": {},
   "source": [
    "Esta flexibilidad es una consecuencia del sistema de tipos dinámicos de Python.\n",
    "¡Crear una secuencia mixta de este tipo en un lenguaje de tipado estático como C puede ser mucho más problemático!\n",
    "Vemos que las listas incluso pueden contener otras listas como elementos.\n",
    "Esta flexibilidad de tipos es una pieza esencial de lo que hace que el código Python sea relativamente rápido y fácil de escribir.\n",
    "\n",
    "Hasta ahora hemos estado considerando manipulaciones de listas como un todo; otra pieza esencial es el acceso a elementos individuales.\n",
    "Esto se hace en Python a través de *indexación* y *slicing* (rebanado), que exploraremos a continuación.\n",
    "\n",
    "### Indexación y slicing de listas\n",
    "\n",
    "Python proporciona acceso a elementos en tipos compuestos a través de la *indexación* para elementos individuales y el *slicing* para múltiples elementos.\n",
    "Como veremos, ambos se indican mediante una sintaxis de corchetes.\n",
    "Supongamos que volvemos a nuestra lista de los primeros números primos: \n"
   ]
  },
  {
   "cell_type": "code",
   "execution_count": null,
   "id": "d18d3b32-fc25-4c7a-8df5-789523c322a6",
   "metadata": {
    "collapsed": false,
    "jupyter": {
     "outputs_hidden": false
    }
   },
   "outputs": [],
   "source": [
    "L = [2, 3, 5, 7, 11]"
   ]
  },
  {
   "cell_type": "markdown",
   "id": "683c6a33-b189-4ed0-8acf-6826acdb52d8",
   "metadata": {},
   "source": [
    "Python utiliza indexación *basada en cero*, por lo que podemos acceder al primer y segundo elemento utilizando la siguiente sintaxis: \n"
   ]
  },
  {
   "cell_type": "code",
   "execution_count": null,
   "id": "39941cf8-f1da-4f5b-a9d9-66c27b883637",
   "metadata": {
    "collapsed": false,
    "jupyter": {
     "outputs_hidden": false
    }
   },
   "outputs": [],
   "source": [
    "L[0]"
   ]
  },
  {
   "cell_type": "code",
   "execution_count": null,
   "id": "d25ff981-450a-4ce2-a976-b87f39104c03",
   "metadata": {
    "collapsed": false,
    "jupyter": {
     "outputs_hidden": false
    }
   },
   "outputs": [],
   "source": [
    "L[1]"
   ]
  },
  {
   "cell_type": "markdown",
   "id": "7bf66cac-3599-4781-8823-8d8fd0e90c74",
   "metadata": {},
   "source": [
    "Se puede acceder a los elementos al final de la lista con números negativos, comenzando desde -1: \n"
   ]
  },
  {
   "cell_type": "code",
   "execution_count": null,
   "id": "beefadb4-fc45-4d5c-988b-5543c289ec63",
   "metadata": {
    "collapsed": false,
    "jupyter": {
     "outputs_hidden": false
    }
   },
   "outputs": [],
   "source": [
    "L[-1]"
   ]
  },
  {
   "cell_type": "code",
   "execution_count": null,
   "id": "d5783c2e-d2e8-40d4-986f-301246275ff7",
   "metadata": {
    "collapsed": false,
    "jupyter": {
     "outputs_hidden": false
    }
   },
   "outputs": [],
   "source": [
    "L[-2]"
   ]
  },
  {
   "cell_type": "markdown",
   "id": "da90a29b-71ae-4c3e-83d9-bf5f0ef3539d",
   "metadata": {},
   "source": [
    "Puedes visualizar este esquema de indexación de esta manera:\n",
    "\n",
    "![List Indexing Figure](fig/list-indexing.png)\n",
    "\n",
    "Aquí los valores en la lista están representados por números grandes en los cuadrados; los índices de la lista están representados por números pequeños arriba y abajo.\n",
    "En este caso, ``L[2]`` devuelve ``5``, porque ese es el siguiente valor en el índice ``2``.\n",
    "\n",
    "Donde la *indexación* es un medio para obtener un solo valor de la lista, el *slicing* es un medio para acceder a múltiples valores en sublistas.\n",
    "Utiliza dos puntos para indicar el punto de inicio (inclusivo) y el punto final (no inclusivo) de la sublista.\n",
    "Por ejemplo, para obtener los primeros tres elementos de la lista, podemos escribir: \n"
   ]
  },
  {
   "cell_type": "code",
   "execution_count": null,
   "id": "19f3a9a9-27d0-421b-96d9-090ac005de04",
   "metadata": {
    "collapsed": false,
    "jupyter": {
     "outputs_hidden": false
    }
   },
   "outputs": [],
   "source": [
    "L[0:3]"
   ]
  },
  {
   "cell_type": "markdown",
   "id": "73b20df2-2c97-4568-abb2-6890b4826965",
   "metadata": {},
   "source": [
    "Observa dónde se encuentran ``0`` y ``3`` en el diagrama anterior y cómo el slicing toma solo los valores entre los índices.\n",
    "Si omitimos el primer índice, se asume ``0``, por lo que podemos escribir de manera equivalente: \n"
   ]
  },
  {
   "cell_type": "code",
   "execution_count": null,
   "id": "2cd6ff70-3991-4b28-a18e-64c003d7447b",
   "metadata": {
    "collapsed": false,
    "jupyter": {
     "outputs_hidden": false
    }
   },
   "outputs": [],
   "source": [
    "L[:3]"
   ]
  },
  {
   "cell_type": "markdown",
   "id": "0b57b662-6635-4a3c-ba9f-a24a48b04032",
   "metadata": {},
   "source": [
    "De manera similar, si omitimos el último índice, se asume por defecto la longitud de la lista.\n",
    "Por lo tanto, se puede acceder a los últimos tres elementos de la siguiente manera: \n"
   ]
  },
  {
   "cell_type": "code",
   "execution_count": null,
   "id": "4aaa3339-ee03-4209-990b-fddca14efe22",
   "metadata": {
    "collapsed": false,
    "jupyter": {
     "outputs_hidden": false
    }
   },
   "outputs": [],
   "source": [
    "L[-3:]"
   ]
  },
  {
   "cell_type": "markdown",
   "id": "0b226cf1-a5b9-4a9b-866e-77530ea83190",
   "metadata": {},
   "source": [
    "Finalmente, es posible especificar un tercer entero que represente el tamaño del paso; por ejemplo, para seleccionar cada segundo elemento de la lista, podemos escribir: \n"
   ]
  },
  {
   "cell_type": "code",
   "execution_count": null,
   "id": "01f68c0a-8af9-4b3a-b0b3-71c0c2dfbc08",
   "metadata": {
    "collapsed": false,
    "jupyter": {
     "outputs_hidden": false
    }
   },
   "outputs": [],
   "source": [
    "L[::2]  # equivalent to L[0:len(L):2]"
   ]
  },
  {
   "cell_type": "markdown",
   "id": "2de2cba3-00c1-40dc-a9b1-27246f2839ec",
   "metadata": {},
   "source": [
    "Una versión particularmente útil de esto es especificar un paso negativo, que invertirá la matriz (lista): \n"
   ]
  },
  {
   "cell_type": "code",
   "execution_count": null,
   "id": "b6aa9fc1-7fcd-4bb4-b6a6-c9eec718c75c",
   "metadata": {
    "collapsed": false,
    "jupyter": {
     "outputs_hidden": false
    }
   },
   "outputs": [],
   "source": [
    "L[::-1]"
   ]
  },
  {
   "cell_type": "markdown",
   "id": "db465790-5c73-44ad-b4a8-94212932cfdc",
   "metadata": {},
   "source": [
    "Tanto la indexación como el slicing se pueden usar para establecer elementos, así como para acceder a ellos.\n",
    "La sintaxis es como cabría esperar: \n"
   ]
  },
  {
   "cell_type": "code",
   "execution_count": null,
   "id": "d9906da2-3dc7-4f7e-8f3d-cd3f4d014d2a",
   "metadata": {
    "collapsed": false,
    "jupyter": {
     "outputs_hidden": false
    }
   },
   "outputs": [],
   "source": [
    "L[0] = 100\n",
    "print(L)"
   ]
  },
  {
   "cell_type": "code",
   "execution_count": null,
   "id": "230c2229-2713-49c4-b0dc-8db235cf83b6",
   "metadata": {
    "collapsed": false,
    "jupyter": {
     "outputs_hidden": false
    }
   },
   "outputs": [],
   "source": [
    "L[1:3] = [55, 56]\n",
    "print(L)"
   ]
  },
  {
   "cell_type": "markdown",
   "id": "e3cfeacd-11a5-4364-b588-736a0f2e4745",
   "metadata": {},
   "source": [
    "Una sintaxis de slicing muy similar también se utiliza en muchos paquetes orientados a la ciencia de datos, incluidos NumPy y Pandas (mencionados en la introducción).\n",
    "\n",
    "Ahora que hemos visto las listas de Python y cómo acceder a elementos en tipos compuestos ordenados, echemos un vistazo a los otros tres tipos de datos compuestos estándar mencionados anteriormente.\n",
    "\n",
    "## Tuplas\n",
    "\n",
    "Las tuplas son en muchos aspectos similares a las listas, pero se definen con paréntesis en lugar de corchetes: \n"
   ]
  },
  {
   "cell_type": "code",
   "execution_count": null,
   "id": "4c1a34b7-32eb-44b6-9648-12d025d1c442",
   "metadata": {
    "collapsed": false,
    "jupyter": {
     "outputs_hidden": false
    }
   },
   "outputs": [],
   "source": [
    "t = (1, 2, 3)"
   ]
  },
  {
   "cell_type": "markdown",
   "id": "9aa676dc-6bdb-40c4-bec9-6dfc8456aec2",
   "metadata": {},
   "source": [
    "También se pueden definir sin ningún tipo de paréntesis: \n"
   ]
  },
  {
   "cell_type": "code",
   "execution_count": null,
   "id": "4fd5984d-38c9-4e6f-8051-8400b491128d",
   "metadata": {
    "collapsed": false,
    "jupyter": {
     "outputs_hidden": false
    }
   },
   "outputs": [],
   "source": [
    "t = 1, 2, 3\n",
    "print(t)"
   ]
  },
  {
   "cell_type": "markdown",
   "id": "9c285bb0-c4ca-4a75-98b7-fa106dac2d51",
   "metadata": {},
   "source": [
    "Al igual que las listas discutidas anteriormente, las tuplas tienen una longitud y los elementos individuales se pueden extraer usando la indexación con corchetes: \n"
   ]
  },
  {
   "cell_type": "code",
   "execution_count": null,
   "id": "c6def1d0-12f6-49e4-bb08-f6ea80b98bb6",
   "metadata": {
    "collapsed": false,
    "jupyter": {
     "outputs_hidden": false
    }
   },
   "outputs": [],
   "source": [
    "len(t)"
   ]
  },
  {
   "cell_type": "code",
   "execution_count": null,
   "id": "fcc7e757-ce72-4efb-9d04-18c07a207c15",
   "metadata": {
    "collapsed": false,
    "jupyter": {
     "outputs_hidden": false
    }
   },
   "outputs": [],
   "source": [
    "t[0]"
   ]
  },
  {
   "cell_type": "markdown",
   "id": "cd32f611-f60f-401b-a0d9-db7b6f1228c2",
   "metadata": {},
   "source": [
    "La principal característica distintiva de las tuplas es que son *inmutables*: esto significa que una vez que se crean, su tamaño y contenido no se pueden cambiar: \n"
   ]
  },
  {
   "cell_type": "code",
   "execution_count": null,
   "id": "036eed90-f9e2-46c3-b5fa-4b953ed04cb3",
   "metadata": {
    "collapsed": false,
    "jupyter": {
     "outputs_hidden": false
    }
   },
   "outputs": [],
   "source": [
    "t[1] = 4"
   ]
  },
  {
   "cell_type": "code",
   "execution_count": null,
   "id": "d071ff48-6492-42f4-b2f8-460ab522db51",
   "metadata": {
    "collapsed": false,
    "jupyter": {
     "outputs_hidden": false
    }
   },
   "outputs": [],
   "source": [
    "t.append(4)"
   ]
  },
  {
   "cell_type": "markdown",
   "id": "21a2d617-1689-4c62-9c07-53a5f6bad621",
   "metadata": {},
   "source": [
    "Las tuplas se utilizan a menudo en un programa Python; un caso particularmente común es en funciones que tienen múltiples valores de retorno.\n",
    "Por ejemplo, el método ``as_integer_ratio()`` de los objetos de punto flotante devuelve un numerador y un denominador; este valor de retorno dual viene en forma de una tupla: \n"
   ]
  },
  {
   "cell_type": "code",
   "execution_count": null,
   "id": "9a9cf888-f5ad-4279-847a-4fb393b50305",
   "metadata": {
    "collapsed": false,
    "jupyter": {
     "outputs_hidden": false
    }
   },
   "outputs": [],
   "source": [
    "x = 0.125\n",
    "x.as_integer_ratio()"
   ]
  },
  {
   "cell_type": "markdown",
   "id": "28e61c0d-2b7c-41e6-9ebf-ea34d2f6f7e5",
   "metadata": {},
   "source": [
    "Estos múltiples valores de retorno se pueden asignar individualmente de la siguiente manera: \n"
   ]
  },
  {
   "cell_type": "code",
   "execution_count": null,
   "id": "15e0eaa6-3b60-415f-a0aa-3bd38aa847fd",
   "metadata": {
    "collapsed": false,
    "jupyter": {
     "outputs_hidden": false
    }
   },
   "outputs": [],
   "source": [
    "numerator, denominator = x.as_integer_ratio()\n",
    "print(numerator / denominator)"
   ]
  },
  {
   "cell_type": "markdown",
   "id": "37af2fe0-9ab0-492d-8d7e-265693109709",
   "metadata": {},
   "source": [
    "La lógica de indexación y slicing cubierta anteriormente para las listas también funciona para las tuplas, junto con una serie de otros métodos.\n",
    "Consulta la [documentación en línea de Python](https://docs.python.org/3/tutorial/datastructures.html) para obtener una lista más completa de estos.\n",
    "\n",
    "## Diccionarios\n",
    "\n",
    "Los diccionarios son mapeos extremadamente flexibles de claves a valores y forman la base de gran parte de la implementación interna de Python.\n",
    "Se pueden crear a través de una lista separada por comas de pares ``clave:valor`` dentro de llaves: \n"
   ]
  },
  {
   "cell_type": "code",
   "execution_count": null,
   "id": "92704dab-08bc-45bd-971e-1c192955593e",
   "metadata": {
    "collapsed": false,
    "jupyter": {
     "outputs_hidden": false
    }
   },
   "outputs": [],
   "source": [
    "numbers = {'one':1, 'two':2, 'three':3}"
   ]
  },
  {
   "cell_type": "markdown",
   "id": "0e050214-52cf-4597-aea8-3f781d8ad843",
   "metadata": {},
   "source": [
    "Se accede a los elementos y se establecen mediante la sintaxis de indexación utilizada para listas y tuplas, excepto que aquí el índice no es un orden basado en cero sino una clave válida en el diccionario: "
   ]
  },
  {
   "cell_type": "code",
   "execution_count": null,
   "id": "27b7bcd7-e4be-47b0-bfd0-04798dbb4181",
   "metadata": {
    "collapsed": false,
    "jupyter": {
     "outputs_hidden": false
    }
   },
   "outputs": [],
   "source": [
    "# Access a value via the key\n",
    "numbers['two']"
   ]
  },
  {
   "cell_type": "markdown",
   "id": "d293882b-ce46-452c-8692-0d59873bb765",
   "metadata": {},
   "source": [
    "También se pueden agregar nuevos elementos al diccionario usando la indexación: \n"
   ]
  },
  {
   "cell_type": "code",
   "execution_count": null,
   "id": "af7af07d-62de-4460-bf8b-ea9598c87f97",
   "metadata": {
    "collapsed": false,
    "jupyter": {
     "outputs_hidden": false
    }
   },
   "outputs": [],
   "source": [
    "# Set a new key:value pair\n",
    "numbers['ninety'] = 90\n",
    "print(numbers)"
   ]
  },
  {
   "cell_type": "markdown",
   "id": "3d88fda0-c4f4-4300-bc3d-5cf18ed97703",
   "metadata": {},
   "source": [
    "Ten en cuenta que los diccionarios no mantienen ningún sentido de orden para los parámetros de entrada; esto es por diseño.\n",
    "Esta falta de orden permite que los diccionarios se implementen de manera muy eficiente, de modo que el acceso aleatorio a los elementos sea muy rápido, independientemente del tamaño del diccionario (si tienes curiosidad sobre cómo funciona esto, lee sobre el concepto de una *tabla hash*).\n",
    "La [documentación de Python](https://docs.python.org/3/library/stdtypes.html) tiene una lista completa de los métodos disponibles para los diccionarios.\n",
    "\n",
    "## Conjuntos\n",
    "\n",
    "La cuarta colección básica es el conjunto (set), que contiene colecciones no ordenadas de elementos únicos.\n",
    "Se definen de manera muy similar a las listas y tuplas, excepto que usan las llaves de los diccionarios: \n"
   ]
  },
  {
   "cell_type": "code",
   "execution_count": null,
   "id": "ffad552b-2bfa-4e6f-a05d-f471da265147",
   "metadata": {
    "collapsed": false,
    "jupyter": {
     "outputs_hidden": false
    }
   },
   "outputs": [],
   "source": [
    "primes = {2, 3, 5, 7}\n",
    "odds = {1, 3, 5, 7, 9}"
   ]
  },
  {
   "cell_type": "markdown",
   "id": "f4e77ba7-aa54-4248-af22-ad45540d02ed",
   "metadata": {},
   "source": [
    "Si estás familiarizado con las matemáticas de conjuntos, estarás familiarizado con operaciones como la unión, la intersección, la diferencia, la diferencia simétrica y otras.\n",
    "Los conjuntos de Python tienen todas estas operaciones incorporadas, a través de métodos u operadores.\n",
    "Para cada una, mostraremos los dos métodos equivalentes: \n"
   ]
  },
  {
   "cell_type": "code",
   "execution_count": null,
   "id": "3d103876-d3c2-4f75-9763-a145d769958b",
   "metadata": {
    "collapsed": false,
    "jupyter": {
     "outputs_hidden": false
    }
   },
   "outputs": [],
   "source": [
    "# union: items appearing in either\n",
    "primes | odds      # with an operator\n",
    "primes.union(odds) # equivalently with a method"
   ]
  },
  {
   "cell_type": "code",
   "execution_count": null,
   "id": "be0b5adc-fb97-43fd-a8ea-9e7d14ed7564",
   "metadata": {
    "collapsed": false,
    "jupyter": {
     "outputs_hidden": false
    }
   },
   "outputs": [],
   "source": [
    "# intersection: items appearing in both\n",
    "primes & odds             # with an operator\n",
    "primes.intersection(odds) # equivalently with a method"
   ]
  },
  {
   "cell_type": "code",
   "execution_count": null,
   "id": "8ebe0d9c-0ae1-4bf6-8849-9b23ae4eba42",
   "metadata": {
    "collapsed": false,
    "jupyter": {
     "outputs_hidden": false
    }
   },
   "outputs": [],
   "source": [
    "# difference: items in primes but not in odds\n",
    "primes - odds           # with an operator\n",
    "primes.difference(odds) # equivalently with a method"
   ]
  },
  {
   "cell_type": "code",
   "execution_count": null,
   "id": "02cb253d-a00d-43a3-9350-c829ec042678",
   "metadata": {
    "collapsed": false,
    "jupyter": {
     "outputs_hidden": false
    }
   },
   "outputs": [],
   "source": [
    "# symmetric difference: items appearing in only one set\n",
    "primes ^ odds                     # with an operator\n",
    "primes.symmetric_difference(odds) # equivalently with a method"
   ]
  },
  {
   "cell_type": "markdown",
   "id": "ce10e956-e982-454c-996e-5a59617f3459",
   "metadata": {},
   "source": [
    "Hay muchos más métodos y operaciones disponibles para los conjuntos.\n",
    "Probablemente ya hayas adivinado lo que diré a continuación: consulta la [documentación en línea de Python](https://docs.python.org/3/library/stdtypes.html) para obtener una referencia completa.\n",
    "\n",
    "## Estructuras de datos más especializadas\n",
    "\n",
    "Python contiene varias otras estructuras de datos que podrías encontrar útiles; generalmente se pueden encontrar en el módulo incorporado ``collections``.\n",
    "El módulo collections está completamente documentado en la [documentación en línea de Python](https://docs.python.org/3/library/collections.html), y puedes leer más sobre los diversos objetos disponibles allí.\n",
    "\n",
    "En particular, he encontrado los siguientes muy útiles en ocasiones:\n",
    "\n",
    "- ``collections.namedtuple``: Como una tupla, pero cada valor tiene un nombre.\n",
    "- ``collections.defaultdict``: Como un diccionario, pero las claves no especificadas tienen un valor predeterminado especificado por el usuario.\n",
    "- ``collections.OrderedDict``: Como un diccionario, pero se mantiene el orden de las claves.\n",
    "\n",
    "Una vez que hayas visto los tipos de colección incorporados estándar, el uso de estas funcionalidades extendidas es muy intuitivo, y te sugiero que [leas sobre su uso](https://docs.python.org/3/library/collections.html). \n"
   ]
  },
  {
   "cell_type": "markdown",
   "id": "a6f5b65b-f599-42f2-b802-891f2aff518f",
   "metadata": {},
   "source": [
    "# 9. Flujo de Control\n",
    "\n",
    "El *flujo de control* es donde realmente se pone a prueba la programación.\n",
    "Sin él, un programa es simplemente una lista de declaraciones que se ejecutan secuencialmente.\n",
    "Con el flujo de control, puedes ejecutar ciertos bloques de código de manera condicional y/o repetida: ¡estos bloques de construcción básicos se pueden combinar para crear programas sorprendentemente sofisticados!\n",
    "\n",
    "Aquí cubriremos las *declaraciones condicionales* (incluyendo \"``if``\", \"``elif``\" y \"``else``\"), las *declaraciones de bucle* (incluyendo \"``for``\" y \"``while``\" y los acompañantes \"``break``\", \"``continue``\" y \"``pass``\").\n",
    "\n",
    "## Declaraciones Condicionales: ``if``-``elif``-``else``\n",
    "\n",
    "Las declaraciones condicionales, a menudo denominadas declaraciones *if-then* (si-entonces), permiten al programador ejecutar ciertas partes de código dependiendo de alguna condición booleana.\n",
    "Un ejemplo básico de una declaración condicional en Python es este: \n"
   ]
  },
  {
   "cell_type": "code",
   "execution_count": null,
   "id": "f67c8180-be20-4859-9d10-54e643cb00cc",
   "metadata": {
    "collapsed": false,
    "jupyter": {
     "outputs_hidden": false
    }
   },
   "outputs": [],
   "source": [
    "x = -15\n",
    "\n",
    "if x == 0:\n",
    "    print(x, \"is zero\")\n",
    "elif x > 0:\n",
    "    print(x, \"is positive\")\n",
    "elif x < 0:\n",
    "    print(x, \"is negative\")\n",
    "else:\n",
    "    print(x, \"is unlike anything I've ever seen...\")"
   ]
  },
  {
   "cell_type": "markdown",
   "id": "dc61dc68-b77c-4dec-a3bd-6eebbd4f536c",
   "metadata": {},
   "source": [
    "Ten en cuenta especialmente el uso de dos puntos (``:``) y espacios en blanco para denotar bloques de código separados.\n",
    "\n",
    "Python adopta el ``if`` y ``else`` que se usan a menudo en otros lenguajes; su palabra clave más singular es ``elif``, una contracción de \"else if\" (si no, si).\n",
    "En estas cláusulas condicionales, los bloques ``elif`` y ``else`` son opcionales; además, puedes optar por incluir tan pocas o tantas declaraciones ``elif`` como desees.\n",
    "\n",
    "## Bucles ``for``\n",
    "\n",
    "Los bucles en Python son una forma de ejecutar repetidamente alguna declaración de código.\n",
    "Entonces, por ejemplo, si quisiéramos imprimir cada uno de los elementos en una lista, podríamos usar un bucle ``for``: \n"
   ]
  },
  {
   "cell_type": "code",
   "execution_count": null,
   "id": "04acb7ce-970b-4c4f-906e-f9de6658d7c2",
   "metadata": {
    "collapsed": false,
    "jupyter": {
     "outputs_hidden": false
    }
   },
   "outputs": [],
   "source": [
    "for N in [2, 3, 5, 7]:\n",
    "    print(N, end=' ') # print all on same line"
   ]
  },
  {
   "cell_type": "markdown",
   "id": "5d965dc3-56d1-4df2-bc41-ec35effd21d5",
   "metadata": {},
   "source": [
    "Observa la simplicidad del bucle ``for``: especificamos la variable que queremos usar, la secuencia sobre la que queremos iterar y usamos el operador \"``in``\" para vincularlos de una manera intuitiva y legible.\n",
    "Más precisamente, el objeto a la derecha del \"``in``\" puede ser cualquier *iterador* de Python.\n",
    "Un iterador se puede considerar como una secuencia generalizada, y los discutiremos más adelante.\n",
    "\n",
    "Por ejemplo, uno de los iteradores más utilizados en Python es el objeto ``range``, que genera una secuencia de números: \n"
   ]
  },
  {
   "cell_type": "code",
   "execution_count": null,
   "id": "2d6a8f1d-7608-4809-9023-816b81b89375",
   "metadata": {
    "collapsed": false,
    "jupyter": {
     "outputs_hidden": false
    }
   },
   "outputs": [],
   "source": [
    "for i in range(10):\n",
    "    print(i, end=' ')"
   ]
  },
  {
   "cell_type": "markdown",
   "id": "ec57a074-928c-4bcd-903e-481ae88e4af2",
   "metadata": {},
   "source": [
    "Ten en cuenta que el rango comienza en cero de forma predeterminada, y que, por convención, el límite superior del rango no se incluye en la salida.\n",
    "Los objetos range también pueden tener valores más complejos: \n"
   ]
  },
  {
   "cell_type": "code",
   "execution_count": null,
   "id": "be641ff2-ffcd-4532-a915-ba6e17a4be76",
   "metadata": {
    "collapsed": false,
    "jupyter": {
     "outputs_hidden": false
    }
   },
   "outputs": [],
   "source": [
    "# range from 5 to 10\n",
    "list(range(5, 10))"
   ]
  },
  {
   "cell_type": "code",
   "execution_count": null,
   "id": "27ea0aea-60b8-4eb9-bc1b-b3e7464b3d83",
   "metadata": {
    "collapsed": false,
    "jupyter": {
     "outputs_hidden": false
    }
   },
   "outputs": [],
   "source": [
    "# range from 0 to 10 by 2\n",
    "list(range(0, 10, 2))"
   ]
  },
  {
   "cell_type": "markdown",
   "id": "c18f42fd-f3b7-49fa-abae-01fd5a59ffe7",
   "metadata": {},
   "source": [
    "Podrías notar que el significado de los argumentos de ``range`` es muy similar a la sintaxis de slicing que cubrimos anteriormente.\n",
    "\n",
    "Ten en cuenta que el comportamiento de ``range()`` es una de las diferencias entre Python 2 y Python 3: en Python 2, ``range()`` produce una lista, mientras que en Python 3, ``range()`` produce un objeto iterable.\n",
    "\n",
    "## Bucles ``while``\n",
    "\n",
    "El otro tipo de bucle en Python es un bucle ``while``, que itera hasta que se cumple alguna condición: \n"
   ]
  },
  {
   "cell_type": "code",
   "execution_count": null,
   "id": "0691dc2f-60ab-4250-a2e6-898e1348def7",
   "metadata": {
    "collapsed": false,
    "jupyter": {
     "outputs_hidden": false
    }
   },
   "outputs": [],
   "source": [
    "i = 0\n",
    "while i < 10:\n",
    "    print(i, end=' ')\n",
    "    i += 1"
   ]
  },
  {
   "cell_type": "markdown",
   "id": "da97ddee-8495-4b36-8a8b-46f3f7248374",
   "metadata": {},
   "source": [
    "El argumento del bucle ``while`` se evalúa como una declaración booleana, y el bucle se ejecuta hasta que la declaración se evalúa como Falsa.\n",
    "\n",
    "## ``break`` y ``continue``: Ajustando tus bucles\n",
    "\n",
    "Existen dos declaraciones útiles que se pueden usar dentro de los bucles para ajustar cómo se ejecutan:\n",
    "\n",
    "- La declaración ``break`` sale del bucle por completo.\n",
    "- La declaración ``continue`` omite el resto del bucle actual y pasa a la siguiente iteración.\n",
    "\n",
    "Estas se pueden usar tanto en bucles ``for`` como en bucles ``while``.\n",
    "\n",
    "Aquí hay un ejemplo de cómo usar ``continue`` para imprimir una cadena de números impares.\n",
    "En este caso, el resultado podría lograrse igualmente bien con una declaración ``if-else``, pero a veces la declaración ``continue`` puede ser una forma más conveniente de expresar la idea que tienes en mente:"
   ]
  },
  {
   "cell_type": "code",
   "execution_count": null,
   "id": "7f1e440e-f30b-46e2-81c2-81f3abc474c5",
   "metadata": {
    "collapsed": false,
    "jupyter": {
     "outputs_hidden": false
    }
   },
   "outputs": [],
   "source": [
    "for n in range(20):\n",
    "    # if the remainder of n / 2 is 0, skip the rest of the loop\n",
    "    if n % 2 == 0:\n",
    "        continue\n",
    "    print(n, end=' ')"
   ]
  },
  {
   "cell_type": "markdown",
   "id": "c679d628-3368-48e1-89e0-157aaedfa07b",
   "metadata": {},
   "source": [
    "Aquí hay un ejemplo de una declaración ``break`` utilizada para una tarea menos trivial.\n",
    "Este bucle llenará una lista con todos los números de Fibonacci hasta un cierto valor:"
   ]
  },
  {
   "cell_type": "code",
   "execution_count": null,
   "id": "af3c98f3-b5db-4057-a51b-c1df19c1ca5d",
   "metadata": {
    "collapsed": false,
    "jupyter": {
     "outputs_hidden": false
    }
   },
   "outputs": [],
   "source": [
    "a, b = 0, 1\n",
    "amax = 100\n",
    "L = []\n",
    "\n",
    "while True:\n",
    "    (a, b) = (b, a + b)\n",
    "    if a > amax:\n",
    "        break\n",
    "    L.append(a)\n",
    "\n",
    "print(L)"
   ]
  },
  {
   "cell_type": "markdown",
   "id": "c522871e-73ee-48b2-93bb-d2a6a2e1d235",
   "metadata": {},
   "source": [
    "Observa que usamos un bucle ``while True``, ¡que se repetirá indefinidamente a menos que tengamos una declaración break!\n",
    "\n",
    "## Bucles con un bloque ``else``\n",
    "\n",
    "Un patrón raramente utilizado disponible en Python es la declaración ``else`` como parte de un bucle ``for`` o ``while``.\n",
    "Discutimos el bloque ``else`` anteriormente: se ejecuta si todas las declaraciones ``if`` y ``elif`` se evalúan como ``False``.\n",
    "El bucle-``else`` es quizás una de las declaraciones con nombres más confusos en Python; prefiero pensar en él como una declaración ``nobreak``: es decir, el bloque ``else`` se ejecuta solo si el bucle termina de forma natural, sin encontrar una declaración ``break``.\n",
    "\n",
    "Como ejemplo de dónde esto podría ser útil, considera la siguiente implementación (no optimizada) del *Tamiz de Eratóstenes*, un algoritmo bien conocido para encontrar números primos:"
   ]
  },
  {
   "cell_type": "code",
   "execution_count": null,
   "id": "25ac8275-8e85-42ca-9013-664c4044c9b1",
   "metadata": {
    "collapsed": false,
    "jupyter": {
     "outputs_hidden": false
    }
   },
   "outputs": [],
   "source": [
    "L = []\n",
    "nmax = 30\n",
    "\n",
    "for n in range(2, nmax):\n",
    "    for factor in L:\n",
    "        if n % factor == 0:\n",
    "            break\n",
    "    else: # no break\n",
    "        L.append(n)\n",
    "print(L)"
   ]
  },
  {
   "cell_type": "markdown",
   "id": "f8a52303-e017-4457-a4d9-eb40ad0e520f",
   "metadata": {},
   "source": [
    "La declaración ``else`` solo se ejecuta si ninguno de los factores divide el número dado.\n",
    "La declaración ``else`` funciona de manera similar con el bucle ``while``."
   ]
  },
  {
   "cell_type": "markdown",
   "id": "58e9e8d8-7dc6-4dde-9461-588b1f65bd32",
   "metadata": {},
   "source": [
    "# 10. Definiendo y Utilizando Funciones\n",
    "\n",
    "Hasta ahora, nuestros scripts han sido bloques de código simples y de un solo uso.\n",
    "Una forma de organizar nuestro código Python y hacerlo más legible y reutilizable es dividir partes útiles en *funciones* reutilizables.\n",
    "Aquí cubriremos dos formas de crear funciones: la instrucción ``def``, útil para cualquier tipo de función, y la instrucción ``lambda``, útil para crear funciones anónimas cortas.\n",
    "\n",
    "## Utilizando Funciones\n",
    "\n",
    "Las funciones son grupos de código que tienen un nombre y se pueden llamar usando paréntesis.\n",
    "Hemos visto funciones antes. Por ejemplo, ``print`` en Python 3 es una función:\n"
   ]
  },
  {
   "cell_type": "code",
   "execution_count": null,
   "id": "bac51797-9043-4ccd-96b2-8ff04faa5ddd",
   "metadata": {
    "collapsed": false,
    "jupyter": {
     "outputs_hidden": false
    }
   },
   "outputs": [],
   "source": [
    "print('abc')"
   ]
  },
  {
   "cell_type": "markdown",
   "id": "b1f54f48-51a7-46f0-ae7f-1ab80c17712c",
   "metadata": {},
   "source": [
    "Aquí ``print`` es el nombre de la función, y ``'abc'`` es el *argumento* de la función.\n",
    "\n",
    "Además de los argumentos, existen *argumentos de palabra clave* que se especifican por su nombre.\n",
    "Un argumento de palabra clave disponible para la función ``print()`` (en Python 3) es ``sep``, que indica qué carácter o caracteres deben usarse para separar varios elementos: \n"
   ]
  },
  {
   "cell_type": "code",
   "execution_count": null,
   "id": "e6fd4481-c951-48c9-9978-217faec95635",
   "metadata": {
    "collapsed": false,
    "jupyter": {
     "outputs_hidden": false
    }
   },
   "outputs": [],
   "source": [
    "print(1, 2, 3)"
   ]
  },
  {
   "cell_type": "code",
   "execution_count": null,
   "id": "7e8e36bf-f3f3-4243-bef9-a56b42053627",
   "metadata": {
    "collapsed": false,
    "jupyter": {
     "outputs_hidden": false
    }
   },
   "outputs": [],
   "source": [
    "print(1, 2, 3, sep='--')"
   ]
  },
  {
   "cell_type": "markdown",
   "id": "d8594341-c6fb-423a-8c30-8729446a011e",
   "metadata": {},
   "source": [
    "Cuando se utilizan argumentos que no son de palabra clave junto con argumentos de palabra clave, los argumentos de palabra clave deben ir al final.\n",
    "\n",
    "## Definiendo Funciones\n",
    "Las funciones se vuelven aún más útiles cuando comenzamos a definir las nuestras, organizando la funcionalidad para ser utilizada en múltiples lugares.\n",
    "En Python, las funciones se definen con la instrucción ``def``.\n",
    "Por ejemplo, podemos encapsular una versión de nuestro código de secuencia de Fibonacci de la sección anterior de la siguiente manera: \n"
   ]
  },
  {
   "cell_type": "code",
   "execution_count": null,
   "id": "4ad48bc5-5fdf-4d28-9c1c-186334ced0ad",
   "metadata": {
    "collapsed": false,
    "jupyter": {
     "outputs_hidden": false
    }
   },
   "outputs": [],
   "source": [
    "def fibonacci(N):\n",
    "    L = []\n",
    "    a, b = 0, 1\n",
    "    while len(L) < N:\n",
    "        a, b = b, a + b\n",
    "        L.append(a)\n",
    "    return L"
   ]
  },
  {
   "cell_type": "markdown",
   "id": "1c9678bc-2f00-4c0c-8661-865c099db956",
   "metadata": {},
   "source": [
    "Ahora tenemos una función llamada ``fibonacci`` que toma un solo argumento ``N``, hace algo con este argumento y ``devuelve`` un valor; en este caso, una lista de los primeros ``N`` números de Fibonacci: \n"
   ]
  },
  {
   "cell_type": "code",
   "execution_count": null,
   "id": "abdd48bf-7e42-47e4-8c1f-6447df66fb51",
   "metadata": {
    "collapsed": false,
    "jupyter": {
     "outputs_hidden": false
    }
   },
   "outputs": [],
   "source": [
    "fibonacci(10)"
   ]
  },
  {
   "cell_type": "markdown",
   "id": "66963f8a-c4b9-4093-8292-50a635f2b4f8",
   "metadata": {},
   "source": [
    "Si estás familiarizado con lenguajes de tipado fuerte como ``C``, notarás inmediatamente que no hay información de tipo asociada con las entradas o salidas de la función.\n",
    "Las funciones de Python pueden devolver cualquier objeto de Python, simple o compuesto, lo que significa que las construcciones que pueden ser difíciles en otros lenguajes son sencillas en Python.\n",
    "\n",
    "Por ejemplo, múltiples valores de retorno simplemente se colocan en una tupla, que se indica por comas: \n"
   ]
  },
  {
   "cell_type": "code",
   "execution_count": null,
   "id": "aa24059e-a504-4938-8799-3f44421d3c9d",
   "metadata": {
    "collapsed": false,
    "jupyter": {
     "outputs_hidden": false
    }
   },
   "outputs": [],
   "source": [
    "def real_imag_conj(val):\n",
    "    return val.real, val.imag, val.conjugate()\n",
    "\n",
    "r, i, c = real_imag_conj(3 + 4j)\n",
    "print(r, i, c)"
   ]
  },
  {
   "cell_type": "markdown",
   "id": "13bc0b52-1130-4362-95ca-2a893cf8a663",
   "metadata": {},
   "source": [
    "## Valores de Argumento por Defecto\n",
    "\n",
    "A menudo, al definir una función, hay ciertos valores que queremos que la función use *la mayoría* del tiempo, pero también nos gustaría dar al usuario algo de flexibilidad.\n",
    "En este caso, podemos usar *valores por defecto* para los argumentos.\n",
    "Consideremos la función ``fibonacci`` de antes.\n",
    "¿Qué pasa si queremos que el usuario pueda jugar con los valores iniciales?\n",
    "Podríamos hacer eso de la siguiente manera: \n"
   ]
  },
  {
   "cell_type": "code",
   "execution_count": null,
   "id": "0d74deb4-0b6e-4db2-90d6-22c13aba447b",
   "metadata": {
    "collapsed": false,
    "jupyter": {
     "outputs_hidden": false
    }
   },
   "outputs": [],
   "source": [
    "def fibonacci(N, a=0, b=1):\n",
    "    L = []\n",
    "    while len(L) < N:\n",
    "        a, b = b, a + b\n",
    "        L.append(a)\n",
    "    return L"
   ]
  },
  {
   "cell_type": "markdown",
   "id": "84f4ab76-d503-4b39-8ea6-977a486df3f4",
   "metadata": {},
   "source": [
    "Con un solo argumento, el resultado de la llamada a la función es idéntico al anterior: \n"
   ]
  },
  {
   "cell_type": "code",
   "execution_count": null,
   "id": "a9e89651-b8bc-4075-9f2f-157a5bbb0e53",
   "metadata": {
    "collapsed": false,
    "jupyter": {
     "outputs_hidden": false
    }
   },
   "outputs": [],
   "source": [
    "fibonacci(10)"
   ]
  },
  {
   "cell_type": "markdown",
   "id": "a88f5bcc-7f9e-40d2-b0ef-3a669d371e1b",
   "metadata": {},
   "source": [
    "Pero ahora podemos usar la función para explorar cosas nuevas, como el efecto de nuevos valores iniciales: \n"
   ]
  },
  {
   "cell_type": "code",
   "execution_count": null,
   "id": "17df0d09-9a6e-4177-86ac-4a2922e9a2c7",
   "metadata": {
    "collapsed": false,
    "jupyter": {
     "outputs_hidden": false
    }
   },
   "outputs": [],
   "source": [
    "fibonacci(10, 0, 2)"
   ]
  },
  {
   "cell_type": "markdown",
   "id": "418f4cd6-f791-4df8-aa0c-634160f7d2d1",
   "metadata": {},
   "source": [
    "Los valores también se pueden especificar por nombre si se desea, en cuyo caso el orden de los valores nombrados no importa: \n"
   ]
  },
  {
   "cell_type": "code",
   "execution_count": null,
   "id": "c16f2af0-38b4-4759-a66c-2dd62796771c",
   "metadata": {
    "collapsed": false,
    "jupyter": {
     "outputs_hidden": false
    }
   },
   "outputs": [],
   "source": [
    "fibonacci(10, b=3, a=1)"
   ]
  },
  {
   "cell_type": "markdown",
   "id": "e5b1183e-ce96-48aa-8ada-6234304b40f8",
   "metadata": {},
   "source": [
    "## ``*args`` y ``**kwargs``: Argumentos Flexibles\n",
    "\n",
    "A veces, es posible que desees escribir una función en la que inicialmente no sepas cuántos argumentos pasará el usuario. En este caso, puedes usar las formas especiales ``*args`` y ``**kwargs`` para capturar todos los argumentos que se pasan. Aquí tienes un ejemplo: \n",
    "\n"
   ]
  },
  {
   "cell_type": "code",
   "execution_count": null,
   "id": "61eafcd4-2b2e-4d2a-972b-a7d624de72a2",
   "metadata": {
    "collapsed": false,
    "jupyter": {
     "outputs_hidden": false
    }
   },
   "outputs": [],
   "source": [
    "def catch_all(*args, **kwargs):\n",
    "    print(\"args =\", args)\n",
    "    print(\"kwargs = \", kwargs)"
   ]
  },
  {
   "cell_type": "code",
   "execution_count": null,
   "id": "0a7e9342-c31d-4ce5-91f9-a7d0007d8052",
   "metadata": {
    "collapsed": false,
    "jupyter": {
     "outputs_hidden": false
    }
   },
   "outputs": [],
   "source": [
    "catch_all(1, 2, 3, a=4, b=5)"
   ]
  },
  {
   "cell_type": "code",
   "execution_count": null,
   "id": "35796edc-8647-405f-9f84-2c1add244358",
   "metadata": {
    "collapsed": false,
    "jupyter": {
     "outputs_hidden": false
    }
   },
   "outputs": [],
   "source": [
    "catch_all('a', keyword=2)"
   ]
  },
  {
   "cell_type": "markdown",
   "id": "1a2ff4ef-bd34-47d0-99a4-d5d80512bfbf",
   "metadata": {},
   "source": [
    "Aquí no son los nombres ``args`` y ``kwargs`` los que importan, sino los caracteres ``*`` que los preceden. ``args`` y ``kwargs`` son simplemente los nombres de variables que se usan a menudo por convención, abreviatura de \"argumentos\" y \"argumentos de palabra clave\". La diferencia operativa son los caracteres de asterisco: un solo ``*`` antes de una variable significa \"expandir esto como una secuencia\", mientras que un doble ``**`` antes de una variable significa \"expandir esto como un diccionario\". ¡De hecho, esta sintaxis se puede usar no solo con la definición de la función, sino también con la llamada a la función! \n"
   ]
  },
  {
   "cell_type": "code",
   "execution_count": null,
   "id": "ecdd90f5-0bcf-42f9-842b-b57d51a0b8f8",
   "metadata": {
    "collapsed": false,
    "jupyter": {
     "outputs_hidden": false
    }
   },
   "outputs": [],
   "source": [
    "inputs = (1, 2, 3)\n",
    "keywords = {'pi': 3.14}\n",
    "\n",
    "catch_all(*inputs, **keywords)"
   ]
  },
  {
   "cell_type": "markdown",
   "id": "28b2ede0-0d2f-4b6a-b8f2-d1246970384f",
   "metadata": {},
   "source": [
    "## Funciones Anónimas (``lambda``)\n",
    "\n",
    "Anteriormente, cubrimos rápidamente la forma más común de definir funciones, la instrucción ``def``. Probablemente te encontrarás con otra forma de definir funciones cortas y únicas con la instrucción ``lambda``. Se ve algo así: \n"
   ]
  },
  {
   "cell_type": "code",
   "execution_count": null,
   "id": "e90bcd12-3600-489b-a7fc-8b2529be9b93",
   "metadata": {
    "collapsed": false,
    "jupyter": {
     "outputs_hidden": false
    }
   },
   "outputs": [],
   "source": [
    "add = lambda x, y: x + y\n",
    "add(1, 2)"
   ]
  },
  {
   "cell_type": "markdown",
   "id": "6027b788-1938-458c-8859-1b85973be8f1",
   "metadata": {},
   "source": [
    "Esta función lambda es aproximadamente equivalente a "
   ]
  },
  {
   "cell_type": "code",
   "execution_count": null,
   "id": "da570a90-1f4e-4b00-9d7d-beeebdcff47e",
   "metadata": {
    "collapsed": false,
    "jupyter": {
     "outputs_hidden": false
    }
   },
   "outputs": [],
   "source": [
    "def add(x, y):\n",
    "    return x + y"
   ]
  },
  {
   "cell_type": "markdown",
   "id": "dd12d71e-58dc-4035-a51c-945717f19ec2",
   "metadata": {},
   "source": [
    "Entonces, ¿por qué querrías usar algo así? Principalmente, se reduce al hecho de que *todo es un objeto* en Python, ¡incluso las propias funciones! Eso significa que las funciones se pueden pasar como argumentos a otras funciones.\n",
    "\n",
    "Como ejemplo de esto, supongamos que tenemos algunos datos almacenados en una lista de diccionarios: "
   ]
  },
  {
   "cell_type": "code",
   "execution_count": null,
   "id": "92d1ea73-8a4e-45ea-ae9d-05e9ff98ae72",
   "metadata": {
    "collapsed": false,
    "jupyter": {
     "outputs_hidden": false
    }
   },
   "outputs": [],
   "source": [
    "data = [{'first':'Guido', 'last':'Van Rossum', 'YOB':1956},\n",
    "        {'first':'Grace', 'last':'Hopper',     'YOB':1906},\n",
    "        {'first':'Alan',  'last':'Turing',     'YOB':1912}]"
   ]
  },
  {
   "cell_type": "markdown",
   "id": "baef2574-44f0-4ca7-be9a-9a8ac8720c0d",
   "metadata": {},
   "source": [
    "Ahora supongamos que queremos ordenar estos datos. Python tiene una función ``sorted`` que hace esto: \n"
   ]
  },
  {
   "cell_type": "code",
   "execution_count": null,
   "id": "b6252294-c885-4dc3-9f53-f91a3ee8ab50",
   "metadata": {
    "collapsed": false,
    "jupyter": {
     "outputs_hidden": false
    }
   },
   "outputs": [],
   "source": [
    "sorted([2,4,3,5,1,6])"
   ]
  },
  {
   "cell_type": "markdown",
   "id": "ce061c9e-6875-4f23-acd8-77a1c31b9097",
   "metadata": {},
   "source": [
    "Pero los diccionarios no son ordenables: necesitamos una manera de decirle a la función *cómo* ordenar nuestros datos. Podemos hacer esto especificando la función ``key``, una función que, dado un elemento, devuelve la clave de ordenación para ese elemento: \n"
   ]
  },
  {
   "cell_type": "code",
   "execution_count": null,
   "id": "4d081b95-58c9-48e9-8917-7bb8a2bf87a9",
   "metadata": {
    "collapsed": false,
    "jupyter": {
     "outputs_hidden": false
    }
   },
   "outputs": [],
   "source": [
    "# sort alphabetically by first name\n",
    "sorted(data, key=lambda item: item['first'])"
   ]
  },
  {
   "cell_type": "code",
   "execution_count": null,
   "id": "e09248ee-ce4d-42f2-94f5-831fb5e918a2",
   "metadata": {
    "collapsed": false,
    "jupyter": {
     "outputs_hidden": false
    }
   },
   "outputs": [],
   "source": [
    "# sort by year of birth\n",
    "sorted(data, key=lambda item: item['YOB'])"
   ]
  },
  {
   "cell_type": "markdown",
   "id": "0f1ec633-85f4-47a2-a650-12bd0d74f689",
   "metadata": {},
   "source": [
    "Si bien estas funciones clave ciertamente podrían crearse con la sintaxis normal ``def``, la sintaxis ``lambda`` es conveniente para funciones cortas y únicas como estas. \n"
   ]
  },
  {
   "cell_type": "markdown",
   "id": "03ee8e85-edd2-4584-83b1-00d4f94b4981",
   "metadata": {},
   "source": [
    "# 11. Problemas\n",
    "\n",
    "Escribe un programa con quién jugar [al gato](https://es.wikipedia.org/wiki/Tres_en_l%C3%ADnea).\n",
    "Puedes representar el estado del juego con una lista con valores que codifican las marcas: 0 para casillas vacías, 1 para las cruces, 2 para los círculos.\n",
    "Puedes recibir la jugada desde el teclado usando `input`."
   ]
  },
  {
   "cell_type": "markdown",
   "id": "a7400942-0e8b-49f6-90be-1aad8402b65f",
   "metadata": {},
   "source": [
    "La siguiente función permite imprimir a pantalla el estado del juego."
   ]
  },
  {
   "cell_type": "code",
   "execution_count": null,
   "id": "8367cbfd-49c9-45d1-9c90-1cc492be7ea3",
   "metadata": {},
   "outputs": [],
   "source": [
    "def cell_char(x):\n",
    "    if x == 1:\n",
    "        return \"x\"\n",
    "    if x == 2:\n",
    "        return \"o\"\n",
    "    return \" \"\n",
    "\n",
    "def print_state(s):\n",
    "    c = [cell_char(x) for x in s]\n",
    "    print(\"    A   B   C  \")\n",
    "    print(\"  ┏━━━┯━━━┯━━━┓\")\n",
    "    print(\"1 ┃ {} │ {} │ {} ┃\".format(c[0], c[1], c[2]))\n",
    "    print(\"  ┠───┼───┼───┨\")\n",
    "    print(\"2 ┃ {} │ {} │ {} ┃\".format(c[3], c[4], c[5]))\n",
    "    print(\"  ┠───┼───┼───┨\")\n",
    "    print(\"3 ┃ {} │ {} │ {} ┃\".format(c[6], c[7], c[8]))\n",
    "    print(\"  ┗━━━┷━━━┷━━━┛\")"
   ]
  },
  {
   "cell_type": "code",
   "execution_count": null,
   "id": "ba5da6d0-b0ab-43bf-ac41-db4b7b54fc32",
   "metadata": {},
   "outputs": [],
   "source": [
    "print_state([0, 0, 0, 0, 0, 0, 0, 0, 0])"
   ]
  },
  {
   "cell_type": "markdown",
   "id": "ea572365-22ee-4f02-a7e0-9ad2c865a6a9",
   "metadata": {},
   "source": [
    "El siguiente fragmento de código puede servir como plantilla para el juego"
   ]
  },
  {
   "cell_type": "code",
   "execution_count": null,
   "id": "e69fb7c8-97f9-4371-800a-61cfcf9a1245",
   "metadata": {},
   "outputs": [],
   "source": [
    "def tic_tac_toe():\n",
    "    s = init_state()\n",
    "    print(\"EL GATO™\")\n",
    "    player = 1\n",
    "    while not is_final_state(s):\n",
    "        print_state(s)\n",
    "        m = ask_action(s) if player == 1 else choose_action(s)\n",
    "        s = next_state(s, m, player)\n",
    "        player = next_player(player)\n",
    "    report_winner(s)"
   ]
  }
 ],
 "metadata": {
  "kernelspec": {
   "display_name": "Python 3 (ipykernel)",
   "language": "python",
   "name": "python3"
  },
  "language_info": {
   "codemirror_mode": {
    "name": "ipython",
    "version": 3
   },
   "file_extension": ".py",
   "mimetype": "text/x-python",
   "name": "python",
   "nbconvert_exporter": "python",
   "pygments_lexer": "ipython3",
   "version": "3.12.4"
  }
 },
 "nbformat": 4,
 "nbformat_minor": 5
}
