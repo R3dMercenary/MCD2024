{
 "cells": [
  {
   "cell_type": "markdown",
   "metadata": {},
   "source": [
    "## Problemas"
   ]
  },
  {
   "cell_type": "code",
   "execution_count": 31,
   "metadata": {},
   "outputs": [],
   "source": [
    "## Problema 1\n",
    "\n",
    "def prob_1(cadena):\n",
    "    if type(cadena)==type(2):\n",
    "        if (cadena<10)and(cadena>=0) :\n",
    "            print(f\"La cadena se conforma de un solo digito\")\n",
    "        else:\n",
    "            print(f\"La cadena no se conforma de un solo digito\")\n",
    "    elif type(cadena)==type(\"str\"):\n",
    "        if len(cadena)==1:\n",
    "            if int(cadena[0]):\n",
    "                print(f\"La cadena se conforma de un solo digito\")\n",
    "        else:\n",
    "            print(f\"La cadena no se conforma de un solo digito\")\n",
    "    else:\n",
    "        print(f\"La cadena no se conforma de un solo digito\")\n",
    "    \n",
    "         "
   ]
  },
  {
   "cell_type": "code",
   "execution_count": 32,
   "metadata": {},
   "outputs": [
    {
     "name": "stdout",
     "output_type": "stream",
     "text": [
      "2\n",
      "La cadena se conforma de un solo digito\n",
      "4.2\n",
      "La cadena no se conforma de un solo digito\n",
      "5\n",
      "La cadena se conforma de un solo digito\n",
      "p5\n",
      "La cadena no se conforma de un solo digito\n",
      "2003\n",
      "La cadena no se conforma de un solo digito\n",
      "cadena1\n",
      "La cadena no se conforma de un solo digito\n"
     ]
    }
   ],
   "source": [
    "pruebas=[2,4.2,'5','p5','2003','cadena1']\n",
    "for prueba in pruebas:\n",
    "    print(prueba)\n",
    "    prob_1(prueba)\n"
   ]
  },
  {
   "cell_type": "code",
   "execution_count": 46,
   "metadata": {},
   "outputs": [],
   "source": [
    "## Problema 2\n",
    "\n",
    "def prob_2(cadena,memoria=[],caracter=0):\n",
    "    \n",
    "    try:\n",
    "        if int(cadena):\n",
    "            print(\"La cadena se constituye de solo digitos\")               \n",
    "    except Exception as e:\n",
    "        print(\"La cadena no se constituye de solo digitos\") \n",
    "        \n",
    "    \n",
    "        "
   ]
  },
  {
   "cell_type": "code",
   "execution_count": 44,
   "metadata": {},
   "outputs": [
    {
     "name": "stdout",
     "output_type": "stream",
     "text": [
      "La cadena se constituye de solo digitos\n"
     ]
    }
   ],
   "source": [
    "prob_2('2003')"
   ]
  },
  {
   "cell_type": "code",
   "execution_count": 47,
   "metadata": {},
   "outputs": [
    {
     "name": "stdout",
     "output_type": "stream",
     "text": [
      "5\n",
      "La cadena se constituye de solo digitos\n",
      "p5\n",
      "La cadena no se constituye de solo digitos\n",
      "2003\n",
      "La cadena se constituye de solo digitos\n",
      "cadena1\n",
      "La cadena no se constituye de solo digitos\n"
     ]
    }
   ],
   "source": [
    "pruebas=['5','p5','2003','cadena1']\n",
    "for prueba in pruebas:\n",
    "    print(prueba)\n",
    "    prob_2(prueba)"
   ]
  },
  {
   "cell_type": "code",
   "execution_count": 5,
   "metadata": {},
   "outputs": [],
   "source": [
    "## Problema 3\n",
    "\n",
    "def prob_3():\n",
    "    import random\n",
    "    resultado=random.randint(0,9)\n",
    "    return resultado"
   ]
  },
  {
   "cell_type": "code",
   "execution_count": 56,
   "metadata": {},
   "outputs": [],
   "source": [
    "## Problema 4\n",
    "\n",
    "def prob_4(numero_digitos,resultado=\"\"):\n",
    "    print(len(resultado),resultado)\n",
    "    import random\n",
    "    if len(resultado)<numero_digitos:\n",
    "        digito_al=random.randint(0,9)\n",
    "        resultado_alterado=resultado+str(digito_al)\n",
    "        prob_4(numero_digitos,resultado_alterado)\n",
    "    \n",
    "    return resultado"
   ]
  },
  {
   "cell_type": "code",
   "execution_count": 93,
   "metadata": {},
   "outputs": [],
   "source": [
    "## Problema 5\n",
    "def prob_5(cadena_1,cadena_2,distancia={'distancia':0},indice=0):\n",
    "    if (len(cadena_1)==len(cadena_2)) and (indice<=len(cadena_1)):\n",
    "        if indice!=len(cadena_1):\n",
    "          \n",
    "            if cadena_1[indice]==cadena_2[indice]:\n",
    "                distancia['distancia']+=1\n",
    "                \n",
    "        elif indice==len(cadena_1):\n",
    "            if cadena_1[indice-1]==cadena_2[indice-1]:\n",
    "                distancia['distancia']+=1\n",
    "                \n",
    "\n",
    "        indice+=1\n",
    "        prob_5(cadena_1,cadena_2,distancia,indice)\n",
    "    return distancia['distancia']"
   ]
  },
  {
   "cell_type": "code",
   "execution_count": 99,
   "metadata": {},
   "outputs": [
    {
     "name": "stdout",
     "output_type": "stream",
     "text": [
      "3\n"
     ]
    }
   ],
   "source": [
    "tt=\"alga\"\n",
    "ty=\"arma\"\n",
    "print(prob_5(tt,ty,distancia={'distancia':0}))"
   ]
  },
  {
   "cell_type": "code",
   "execution_count": 128,
   "metadata": {},
   "outputs": [],
   "source": [
    "## Problema 6\n",
    "def prob_6(cadena):\n",
    "    import random\n",
    "    pos=random.randint(0,len(cadena))\n",
    "    if pos==len(cadena):\n",
    "        resultado=cadena[:pos]+str(random.randint(0,9))\n",
    "    else:\n",
    "        resultado=cadena[:pos]+str(random.randint(0,9))+cadena[pos+1:]\n",
    "    \n",
    "    return resultado"
   ]
  },
  {
   "cell_type": "code",
   "execution_count": 105,
   "metadata": {},
   "outputs": [
    {
     "data": {
      "text/plain": [
       "'7'"
      ]
     },
     "execution_count": 105,
     "metadata": {},
     "output_type": "execute_result"
    }
   ],
   "source": [
    "import random\n",
    "str(random.randint(0,9))"
   ]
  },
  {
   "cell_type": "code",
   "execution_count": 122,
   "metadata": {},
   "outputs": [
    {
     "data": {
      "text/plain": [
       "''"
      ]
     },
     "execution_count": 122,
     "metadata": {},
     "output_type": "execute_result"
    }
   ],
   "source": [
    "\"212\"[:0]"
   ]
  },
  {
   "cell_type": "code",
   "execution_count": 127,
   "metadata": {},
   "outputs": [
    {
     "data": {
      "text/plain": [
       "'2226'"
      ]
     },
     "execution_count": 127,
     "metadata": {},
     "output_type": "execute_result"
    }
   ],
   "source": [
    "\"222\"[:3]+str(random.randint(0,9))+\"222\"[3+1:]"
   ]
  },
  {
   "cell_type": "code",
   "execution_count": 131,
   "metadata": {},
   "outputs": [
    {
     "data": {
      "text/plain": [
       "'52123'"
      ]
     },
     "execution_count": 131,
     "metadata": {},
     "output_type": "execute_result"
    }
   ],
   "source": [
    "prob_6(\"22123\")"
   ]
  },
  {
   "cell_type": "code",
   "execution_count": 17,
   "metadata": {},
   "outputs": [],
   "source": [
    "## Problema 7\n",
    "def prob_7(cadena,usadas=[],resultado=\"\",memoria=[]):\n",
    "    import random\n",
    "    memoria.append(cadena)\n",
    "    if len(usadas)<2:\n",
    "        digito=str(random.randint(0,9))\n",
    "        pos=random.randint(0,len(cadena))\n",
    "        if pos in usadas:\n",
    "            prob_7(cadena,usadas)\n",
    "        elif pos==len(cadena):\n",
    "            \n",
    "            if (digito==cadena[pos-1])or (digito==memoria[0][pos-1]):\n",
    "                prob_7(cadena,usadas)\n",
    "            else:\n",
    "                resultado=cadena[:pos]+digito\n",
    "                usadas.append(pos)\n",
    "                prob_7(resultado,usadas,memoria=memoria)\n",
    "        else:\n",
    "\n",
    "            if (digito==cadena[pos])or(digito==memoria[0][pos]):\n",
    "                prob_7(cadena,usadas)\n",
    "            else:\n",
    "                resultado=cadena[:pos]+digito+cadena[pos+1:]\n",
    "                usadas.append(pos)\n",
    "                prob_7(resultado,usadas,memoria=memoria)\n",
    "        \n",
    "        print(\"ok\",resultado,usadas,memoria)    \n",
    "    return memoria[-1]\n",
    "\n",
    "    "
   ]
  },
  {
   "cell_type": "code",
   "execution_count": 18,
   "metadata": {},
   "outputs": [
    {
     "name": "stdout",
     "output_type": "stream",
     "text": [
      "ok 22107 [4, 3] ['22123', '22127', '22107']\n",
      "ok 22127 [4, 3] ['22123', '22127', '22107']\n"
     ]
    },
    {
     "data": {
      "text/plain": [
       "'22107'"
      ]
     },
     "execution_count": 18,
     "metadata": {},
     "output_type": "execute_result"
    }
   ],
   "source": [
    "prob_7(\"22123\")"
   ]
  },
  {
   "cell_type": "code",
   "execution_count": 23,
   "metadata": {},
   "outputs": [],
   "source": [
    "## Problema 8\n",
    "def prob_8(cadena,usadas=[],resultado=\"\",memoria=[]):\n",
    "    import random\n",
    "    memoria.append(cadena)\n",
    "    if len(usadas)<3:\n",
    "        digito=str(random.randint(0,9))\n",
    "        pos=random.randint(0,len(cadena))\n",
    "        if pos in usadas:\n",
    "            prob_8(cadena,usadas)\n",
    "        elif pos==len(cadena):\n",
    "            \n",
    "            if (digito==cadena[pos-1])or (digito==memoria[0][pos-1]):\n",
    "                prob_8(cadena,usadas)\n",
    "            else:\n",
    "                resultado=cadena[:pos]+digito\n",
    "                usadas.append(pos)\n",
    "                prob_8(resultado,usadas,memoria=memoria)\n",
    "        else:\n",
    "\n",
    "            if (digito==cadena[pos])or(digito==memoria[0][pos]):\n",
    "                prob_8(cadena,usadas)\n",
    "            else:\n",
    "                resultado=cadena[:pos]+digito+cadena[pos+1:]\n",
    "                usadas.append(pos)\n",
    "                prob_8(resultado,usadas,memoria=memoria)\n",
    "        \n",
    "        print(\"ok\",resultado,usadas,memoria)    \n",
    "    return memoria[-1]"
   ]
  },
  {
   "cell_type": "code",
   "execution_count": 24,
   "metadata": {},
   "outputs": [
    {
     "name": "stdout",
     "output_type": "stream",
     "text": [
      "ok 62171 [3, 0, 4] ['22123', '22173', '62173', '62171']\n",
      "ok 62173 [3, 0, 4] ['22123', '22173', '62173', '62171']\n",
      "ok 22173 [3, 0, 4] ['22123', '22173', '62173', '62171']\n"
     ]
    },
    {
     "data": {
      "text/plain": [
       "'62171'"
      ]
     },
     "execution_count": 24,
     "metadata": {},
     "output_type": "execute_result"
    }
   ],
   "source": [
    "prob_8(\"22123\")"
   ]
  },
  {
   "cell_type": "code",
   "execution_count": 36,
   "metadata": {},
   "outputs": [],
   "source": [
    "## Problema 9\n",
    "    \n",
    "def prob_9(cadena,n,usadas=[],resultado=\"\",memoria=[]):\n",
    "    import random\n",
    "    memoria.append(cadena)\n",
    "    if len(usadas)<n:\n",
    "        digito=str(random.randint(0,9))\n",
    "        pos=random.randint(0,len(cadena))\n",
    "        if pos in usadas:\n",
    "            prob_9(cadena,n,usadas)\n",
    "        elif pos==len(cadena):\n",
    "            \n",
    "            if (digito==cadena[pos-1])or (digito==memoria[0][pos-1]):\n",
    "                prob_9(cadena,n,usadas)\n",
    "            else:\n",
    "                resultado=cadena[:pos]+digito\n",
    "                if resultado not in memoria:\n",
    "                    usadas.append(pos)\n",
    "                    prob_9(resultado,n,usadas,memoria=memoria)\n",
    "        else:\n",
    "\n",
    "            if (digito==cadena[pos])or(digito==memoria[0][pos]):\n",
    "                prob_9(cadena,n,usadas)\n",
    "            else:\n",
    "\n",
    "                resultado=cadena[:pos]+digito+cadena[pos+1:]\n",
    "                if resultado not in memoria:\n",
    "                    usadas.append(pos)\n",
    "                    prob_9(resultado,n,usadas,memoria=memoria)\n",
    "        \n",
    "        print(\"ok\",resultado,usadas,memoria)    \n",
    "    return memoria[-1]"
   ]
  },
  {
   "cell_type": "code",
   "execution_count": null,
   "metadata": {},
   "outputs": [],
   "source": [
    "if n>len(cadena):\n",
    "        print(\"Ya te vi, intenta usar una n menor, payaso\")"
   ]
  },
  {
   "cell_type": "code",
   "execution_count": null,
   "metadata": {},
   "outputs": [],
   "source": [
    "def prob_9(cadena,n,usadas=[]):\n",
    "    import random\n",
    "    if len(usadas)<n:\n",
    "        pos=random.randint(0,len(cadena))\n",
    "        if pos==len(cadena):\n",
    "            resultado=cadena[:pos]+str(random.randint(0,9))\n",
    "            usadas.append(pos)\n",
    "        else:\n",
    "            resultado=cadena[:pos]+str(random.randint(0,9))+cadena[pos+1:]\n",
    "    \n",
    "    return resultado\n",
    "        "
   ]
  },
  {
   "cell_type": "code",
   "execution_count": 49,
   "metadata": {},
   "outputs": [
    {
     "name": "stdout",
     "output_type": "stream",
     "text": [
      "ok 82194 [4, 3, 0] ['22123', '22124', '22194', '82194']\n",
      "ok 22194 [4, 3, 0] ['22123', '22124', '22194', '82194']\n",
      "ok 22124 [4, 3, 0] ['22123', '22124', '22194', '82194']\n"
     ]
    },
    {
     "data": {
      "text/plain": [
       "'82194'"
      ]
     },
     "execution_count": 49,
     "metadata": {},
     "output_type": "execute_result"
    }
   ],
   "source": [
    "prob_9(\"22123\",3)"
   ]
  },
  {
   "cell_type": "code",
   "execution_count": 48,
   "metadata": {},
   "outputs": [],
   "source": [
    "## Problema 9\n",
    "    \n",
    "def prob_9(cadena,n,usadas=[],resultado=\"\",memoria=[]):\n",
    "    import random\n",
    "    memoria.append(cadena)\n",
    "    if len(usadas)<n:\n",
    "        digito=str(random.randint(0,9))\n",
    "        pos=random.randint(0,len(cadena))\n",
    "        if pos in usadas:\n",
    "            prob_9(cadena,n,usadas)\n",
    "        elif pos==len(cadena):\n",
    "            if (digito==cadena[pos-1])or(digito==memoria[0][pos-1]):\n",
    "                prob_9(cadena,n,usadas)\n",
    "            else:\n",
    "                resultado=cadena[:pos]+digito\n",
    "                usadas.append(pos)\n",
    "                prob_9(resultado,n,usadas,memoria=memoria)\n",
    "        else:\n",
    "\n",
    "            if (digito==cadena[pos])or(digito==memoria[0][pos]):\n",
    "                prob_9(cadena,n,usadas)\n",
    "            else:\n",
    "\n",
    "                resultado=cadena[:pos]+digito+cadena[pos+1:]\n",
    "                if resultado not in memoria:\n",
    "                    usadas.append(pos)\n",
    "                    prob_9(resultado,n,usadas,memoria=memoria)\n",
    "        \n",
    "        print(\"ok\",resultado,usadas,memoria)    \n",
    "    return memoria[-1]"
   ]
  },
  {
   "cell_type": "code",
   "execution_count": 13,
   "metadata": {},
   "outputs": [],
   "source": [
    "## Problema 9\n",
    "    \n",
    "def prob_9(cadena,n,usadas=[],resultado=\"\",memoria=[]):\n",
    "    import random\n",
    "    memoria.append(cadena)\n",
    "    print(len(usadas))\n",
    "    if len(usadas)<n:\n",
    "        digito=str(random.randint(0,9))\n",
    "        pos=random.randint(0,len(cadena))\n",
    "        if pos in usadas:\n",
    "            prob_9(cadena,n,usadas)\n",
    "        elif pos==len(cadena):\n",
    "            print(\"\")\n",
    "            if (digito==cadena[pos-1])or(digito==memoria[0][pos-1]):\n",
    "                prob_9(cadena,n,usadas)\n",
    "            else:\n",
    "                resultado=cadena[:pos-1]+digito\n",
    "                usadas.append(pos)\n",
    "                prob_9(resultado,n,usadas,memoria=memoria)\n",
    "        else:\n",
    "\n",
    "            if (digito==cadena[pos])or(digito==memoria[0][pos]):\n",
    "                prob_9(cadena,n,usadas)\n",
    "            else:\n",
    "\n",
    "                resultado=cadena[:pos]+digito+cadena[pos+1:]\n",
    "                if resultado not in memoria:\n",
    "                    usadas.append(pos)\n",
    "                    prob_9(resultado,n,usadas,memoria=memoria)\n",
    "        \n",
    "        print(\"ok\",resultado,usadas,memoria)    \n",
    "    return memoria[-1]"
   ]
  },
  {
   "cell_type": "code",
   "execution_count": 14,
   "metadata": {},
   "outputs": [
    {
     "name": "stdout",
     "output_type": "stream",
     "text": [
      "0\n",
      "1\n",
      "2\n",
      "2\n",
      "3\n",
      "ok 62127 [0, 5, 4] ['62121', '62127']\n",
      "ok  [0, 5, 4] ['22123', '62123', '62121']\n",
      "ok 62121 [0, 5, 4] ['22123', '62123', '62121']\n",
      "ok 62123 [0, 5, 4] ['22123', '62123', '62121']\n"
     ]
    },
    {
     "data": {
      "text/plain": [
       "'62121'"
      ]
     },
     "execution_count": 14,
     "metadata": {},
     "output_type": "execute_result"
    }
   ],
   "source": [
    "prob_9(\"22123\",3,memoria=[],usadas=[])"
   ]
  },
  {
   "cell_type": "code",
   "execution_count": null,
   "metadata": {},
   "outputs": [],
   "source": []
  },
  {
   "cell_type": "code",
   "execution_count": null,
   "metadata": {},
   "outputs": [],
   "source": []
  }
 ],
 "metadata": {
  "kernelspec": {
   "display_name": "Python 3",
   "language": "python",
   "name": "python3"
  },
  "language_info": {
   "codemirror_mode": {
    "name": "ipython",
    "version": 3
   },
   "file_extension": ".py",
   "mimetype": "text/x-python",
   "name": "python",
   "nbconvert_exporter": "python",
   "pygments_lexer": "ipython3",
   "version": "3.10.12"
  }
 },
 "nbformat": 4,
 "nbformat_minor": 2
}
